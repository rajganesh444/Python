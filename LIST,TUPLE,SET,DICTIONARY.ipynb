{
 "cells": [
  {
   "cell_type": "markdown",
   "id": "2675e34e",
   "metadata": {},
   "source": [
    "### collection datatypes"
   ]
  },
  {
   "cell_type": "markdown",
   "id": "614c6b43",
   "metadata": {},
   "source": [
    "* list\n",
    "\n",
    "* Tuple\n",
    "\n",
    "* set \n",
    "\n",
    "* Dictionary\n",
    "\n",
    "* frozen sets\n",
    "\n",
    "* we use integer,string,float in collection Datatypes\n",
    "\n",
    "* But ATTRIBUTES ARE different"
   ]
  },
  {
   "cell_type": "markdown",
   "id": "c883870f",
   "metadata": {},
   "source": [
    "### List"
   ]
  },
  {
   "cell_type": "markdown",
   "id": "ffdeecc1",
   "metadata": {},
   "source": [
    "* In list datatype we store multiple values \n",
    "\n",
    "* List datatypes represented in square brackets[]\n",
    "\n",
    "* list are collection and they are hreterogeneous\n",
    "\n",
    "* Empty list = []\n",
    "\n",
    "* list are mutable i.e. changes happen in sames memory location "
   ]
  },
  {
   "cell_type": "markdown",
   "id": "50ea19e0",
   "metadata": {},
   "source": [
    "### CREATING A LIST OF VALUES"
   ]
  },
  {
   "cell_type": "code",
   "execution_count": 1,
   "id": "889017d8",
   "metadata": {},
   "outputs": [],
   "source": [
    "list = [1,2,3,4]"
   ]
  },
  {
   "cell_type": "markdown",
   "id": "0e43d663",
   "metadata": {},
   "source": [
    "### Basic function"
   ]
  },
  {
   "cell_type": "code",
   "execution_count": 2,
   "id": "4c911385",
   "metadata": {},
   "outputs": [
    {
     "name": "stdout",
     "output_type": "stream",
     "text": [
      "[1, 2, 3, 4]\n"
     ]
    }
   ],
   "source": [
    "print(list)"
   ]
  },
  {
   "cell_type": "code",
   "execution_count": 3,
   "id": "226d86ee",
   "metadata": {},
   "outputs": [
    {
     "data": {
      "text/plain": [
       "list"
      ]
     },
     "execution_count": 3,
     "metadata": {},
     "output_type": "execute_result"
    }
   ],
   "source": [
    "type(list)"
   ]
  },
  {
   "cell_type": "code",
   "execution_count": 4,
   "id": "1d57b868",
   "metadata": {},
   "outputs": [
    {
     "data": {
      "text/plain": [
       "3026621567360"
      ]
     },
     "execution_count": 4,
     "metadata": {},
     "output_type": "execute_result"
    }
   ],
   "source": [
    "id(list)"
   ]
  },
  {
   "cell_type": "code",
   "execution_count": 5,
   "id": "96f20da1",
   "metadata": {},
   "outputs": [
    {
     "data": {
      "text/plain": [
       "4"
      ]
     },
     "execution_count": 5,
     "metadata": {},
     "output_type": "execute_result"
    }
   ],
   "source": [
    "len(list)"
   ]
  },
  {
   "cell_type": "markdown",
   "id": "05809975",
   "metadata": {},
   "source": [
    "### Create an empty list"
   ]
  },
  {
   "cell_type": "code",
   "execution_count": 6,
   "id": "c09b2453",
   "metadata": {},
   "outputs": [],
   "source": [
    "val=[]"
   ]
  },
  {
   "cell_type": "code",
   "execution_count": 7,
   "id": "bb0abfe5",
   "metadata": {},
   "outputs": [
    {
     "data": {
      "text/plain": [
       "0"
      ]
     },
     "execution_count": 7,
     "metadata": {},
     "output_type": "execute_result"
    }
   ],
   "source": [
    "len(val)"
   ]
  },
  {
   "cell_type": "code",
   "execution_count": 8,
   "id": "44f7c024",
   "metadata": {},
   "outputs": [],
   "source": [
    "city = [\"kkd\",\"vizag\",\"hyd\"]"
   ]
  },
  {
   "cell_type": "code",
   "execution_count": 9,
   "id": "31884a6b",
   "metadata": {},
   "outputs": [
    {
     "name": "stdout",
     "output_type": "stream",
     "text": [
      "['kkd', 'vizag', 'hyd']\n"
     ]
    }
   ],
   "source": [
    "print(city)"
   ]
  },
  {
   "cell_type": "code",
   "execution_count": 10,
   "id": "c07ab7a9",
   "metadata": {},
   "outputs": [],
   "source": [
    "programmes = [\"java\",\"sql\",\"c\",\"python\"]"
   ]
  },
  {
   "cell_type": "code",
   "execution_count": 11,
   "id": "343ea63c",
   "metadata": {},
   "outputs": [
    {
     "name": "stdout",
     "output_type": "stream",
     "text": [
      "['java', 'sql', 'c', 'python']\n"
     ]
    }
   ],
   "source": [
    "print(programmes)"
   ]
  },
  {
   "cell_type": "code",
   "execution_count": 12,
   "id": "36bdd095",
   "metadata": {},
   "outputs": [
    {
     "data": {
      "text/plain": [
       "list"
      ]
     },
     "execution_count": 12,
     "metadata": {},
     "output_type": "execute_result"
    }
   ],
   "source": [
    "type(city)"
   ]
  },
  {
   "cell_type": "code",
   "execution_count": 14,
   "id": "1b4e1337",
   "metadata": {},
   "outputs": [
    {
     "data": {
      "text/plain": [
       "3026621575936"
      ]
     },
     "execution_count": 14,
     "metadata": {},
     "output_type": "execute_result"
    }
   ],
   "source": [
    "id(city)"
   ]
  },
  {
   "cell_type": "code",
   "execution_count": 15,
   "id": "77d9c567",
   "metadata": {},
   "outputs": [
    {
     "data": {
      "text/plain": [
       "3"
      ]
     },
     "execution_count": 15,
     "metadata": {},
     "output_type": "execute_result"
    }
   ],
   "source": [
    "len(city)"
   ]
  },
  {
   "cell_type": "markdown",
   "id": "c079e277",
   "metadata": {},
   "source": [
    "### Atributes of list"
   ]
  },
  {
   "cell_type": "markdown",
   "id": "6574409e",
   "metadata": {},
   "source": [
    "* m = mutable\n",
    "* o = ordered\n",
    "* D = Duplicate\n",
    "* i = index"
   ]
  },
  {
   "cell_type": "markdown",
   "id": "cf714b3e",
   "metadata": {},
   "source": [
    "### mutable\n"
   ]
  },
  {
   "cell_type": "markdown",
   "id": "809802e9",
   "metadata": {},
   "source": [
    "* mutable means change the orginal value"
   ]
  },
  {
   "cell_type": "code",
   "execution_count": 17,
   "id": "1c88e83b",
   "metadata": {},
   "outputs": [],
   "source": [
    "a = 5\n"
   ]
  },
  {
   "cell_type": "code",
   "execution_count": 18,
   "id": "1d8a519e",
   "metadata": {},
   "outputs": [
    {
     "data": {
      "text/plain": [
       "10"
      ]
     },
     "execution_count": 18,
     "metadata": {},
     "output_type": "execute_result"
    }
   ],
   "source": [
    "a + 5"
   ]
  },
  {
   "cell_type": "code",
   "execution_count": 19,
   "id": "9e19f36d",
   "metadata": {},
   "outputs": [
    {
     "data": {
      "text/plain": [
       "5"
      ]
     },
     "execution_count": 19,
     "metadata": {},
     "output_type": "execute_result"
    }
   ],
   "source": [
    "a"
   ]
  },
  {
   "cell_type": "code",
   "execution_count": 20,
   "id": "124eaa07",
   "metadata": {},
   "outputs": [],
   "source": [
    "b = \"hello\""
   ]
  },
  {
   "cell_type": "code",
   "execution_count": 21,
   "id": "9dd1362b",
   "metadata": {},
   "outputs": [
    {
     "data": {
      "text/plain": [
       "'helloworld'"
      ]
     },
     "execution_count": 21,
     "metadata": {},
     "output_type": "execute_result"
    }
   ],
   "source": [
    "b +\"world\""
   ]
  },
  {
   "cell_type": "code",
   "execution_count": 22,
   "id": "66e7339e",
   "metadata": {},
   "outputs": [
    {
     "data": {
      "text/plain": [
       "'hello'"
      ]
     },
     "execution_count": 22,
     "metadata": {},
     "output_type": "execute_result"
    }
   ],
   "source": [
    "b"
   ]
  },
  {
   "cell_type": "code",
   "execution_count": 23,
   "id": "89ecfa02",
   "metadata": {},
   "outputs": [],
   "source": [
    "c = 2.5"
   ]
  },
  {
   "cell_type": "code",
   "execution_count": 24,
   "id": "f9f112b3",
   "metadata": {},
   "outputs": [
    {
     "data": {
      "text/plain": [
       "6.0"
      ]
     },
     "execution_count": 24,
     "metadata": {},
     "output_type": "execute_result"
    }
   ],
   "source": [
    "c +3.5"
   ]
  },
  {
   "cell_type": "code",
   "execution_count": 25,
   "id": "e65561b4",
   "metadata": {},
   "outputs": [
    {
     "data": {
      "text/plain": [
       "2.5"
      ]
     },
     "execution_count": 25,
     "metadata": {},
     "output_type": "execute_result"
    }
   ],
   "source": [
    "c"
   ]
  },
  {
   "cell_type": "code",
   "execution_count": 30,
   "id": "6a84f93d",
   "metadata": {},
   "outputs": [],
   "source": [
    "list = [1,2,\"hello\", True ,5]"
   ]
  },
  {
   "cell_type": "code",
   "execution_count": 31,
   "id": "c0f0a87a",
   "metadata": {},
   "outputs": [],
   "source": [
    "list.append(5)"
   ]
  },
  {
   "cell_type": "code",
   "execution_count": 32,
   "id": "76354e5d",
   "metadata": {},
   "outputs": [
    {
     "data": {
      "text/plain": [
       "[1, 2, 'hello', True, 5, 5]"
      ]
     },
     "execution_count": 32,
     "metadata": {},
     "output_type": "execute_result"
    }
   ],
   "source": [
    "list"
   ]
  },
  {
   "cell_type": "markdown",
   "id": "11ce00ff",
   "metadata": {},
   "source": [
    "### Ordered"
   ]
  },
  {
   "cell_type": "markdown",
   "id": "74e6bb14",
   "metadata": {},
   "source": [
    "* follow some sequency or numbering"
   ]
  },
  {
   "cell_type": "code",
   "execution_count": 33,
   "id": "7fd41c3d",
   "metadata": {},
   "outputs": [],
   "source": [
    "list = [1,2,3,4,6]"
   ]
  },
  {
   "cell_type": "code",
   "execution_count": 34,
   "id": "0c6264b2",
   "metadata": {},
   "outputs": [
    {
     "data": {
      "text/plain": [
       "4"
      ]
     },
     "execution_count": 34,
     "metadata": {},
     "output_type": "execute_result"
    }
   ],
   "source": [
    "list[3]"
   ]
  },
  {
   "cell_type": "code",
   "execution_count": 35,
   "id": "f59c3b30",
   "metadata": {},
   "outputs": [],
   "source": [
    "list = [1,2,\"hello\",5.5,2+3j ]"
   ]
  },
  {
   "cell_type": "code",
   "execution_count": 36,
   "id": "f37bacd6",
   "metadata": {},
   "outputs": [
    {
     "data": {
      "text/plain": [
       "[2, 'hello', 5.5, (2+3j)]"
      ]
     },
     "execution_count": 36,
     "metadata": {},
     "output_type": "execute_result"
    }
   ],
   "source": [
    "list[1:5]"
   ]
  },
  {
   "cell_type": "code",
   "execution_count": 37,
   "id": "8c0ea1ad",
   "metadata": {},
   "outputs": [
    {
     "data": {
      "text/plain": [
       "[1, 2, 'hello', 5.5, (2+3j)]"
      ]
     },
     "execution_count": 37,
     "metadata": {},
     "output_type": "execute_result"
    }
   ],
   "source": [
    "list[0:7]"
   ]
  },
  {
   "cell_type": "code",
   "execution_count": 38,
   "id": "a010fb66",
   "metadata": {},
   "outputs": [
    {
     "data": {
      "text/plain": [
       "[(2+3j), 5.5, 'hello', 2]"
      ]
     },
     "execution_count": 38,
     "metadata": {},
     "output_type": "execute_result"
    }
   ],
   "source": [
    "list[-1:-5:-1]"
   ]
  },
  {
   "cell_type": "code",
   "execution_count": 39,
   "id": "900eb7ae",
   "metadata": {},
   "outputs": [
    {
     "data": {
      "text/plain": [
       "[5.5, 2]"
      ]
     },
     "execution_count": 39,
     "metadata": {},
     "output_type": "execute_result"
    }
   ],
   "source": [
    "list[-2:-5:-2]"
   ]
  },
  {
   "cell_type": "markdown",
   "id": "eda5a2f6",
   "metadata": {},
   "source": [
    "### Duplicate"
   ]
  },
  {
   "cell_type": "markdown",
   "id": "1aca7eff",
   "metadata": {},
   "source": [
    "* it allows duplicate valuse"
   ]
  },
  {
   "cell_type": "code",
   "execution_count": 40,
   "id": "b55b451e",
   "metadata": {},
   "outputs": [],
   "source": [
    "list = [1,2,3,4,5]"
   ]
  },
  {
   "cell_type": "code",
   "execution_count": 41,
   "id": "9fce2f4a",
   "metadata": {},
   "outputs": [
    {
     "data": {
      "text/plain": [
       "[1, 2, 3, 4, 5]"
      ]
     },
     "execution_count": 41,
     "metadata": {},
     "output_type": "execute_result"
    }
   ],
   "source": [
    "list"
   ]
  },
  {
   "cell_type": "code",
   "execution_count": 42,
   "id": "6862c5d9",
   "metadata": {},
   "outputs": [],
   "source": [
    "a = [\"python\",\"c\",\"python\",\"c++\"]"
   ]
  },
  {
   "cell_type": "code",
   "execution_count": 43,
   "id": "04a9cc9d",
   "metadata": {},
   "outputs": [
    {
     "data": {
      "text/plain": [
       "['python', 'c', 'python', 'c++']"
      ]
     },
     "execution_count": 43,
     "metadata": {},
     "output_type": "execute_result"
    }
   ],
   "source": [
    "a"
   ]
  },
  {
   "cell_type": "markdown",
   "id": "f97dc4b1",
   "metadata": {},
   "source": [
    "### index"
   ]
  },
  {
   "cell_type": "markdown",
   "id": "c65632d8",
   "metadata": {},
   "source": [
    "* it follows index number\n",
    "* we apply string concept in index"
   ]
  },
  {
   "cell_type": "code",
   "execution_count": 50,
   "id": "67dbc63b",
   "metadata": {},
   "outputs": [],
   "source": [
    "list = [\"java\",\"python\",\"sql\",\"c++\"]"
   ]
  },
  {
   "cell_type": "code",
   "execution_count": 51,
   "id": "dd7dab16",
   "metadata": {},
   "outputs": [
    {
     "data": {
      "text/plain": [
       "'python'"
      ]
     },
     "execution_count": 51,
     "metadata": {},
     "output_type": "execute_result"
    }
   ],
   "source": [
    "list[1]"
   ]
  },
  {
   "cell_type": "code",
   "execution_count": 52,
   "id": "3e8e04e1",
   "metadata": {},
   "outputs": [
    {
     "data": {
      "text/plain": [
       "'c++'"
      ]
     },
     "execution_count": 52,
     "metadata": {},
     "output_type": "execute_result"
    }
   ],
   "source": [
    "list[3]"
   ]
  },
  {
   "cell_type": "code",
   "execution_count": 53,
   "id": "9755954e",
   "metadata": {},
   "outputs": [],
   "source": [
    "a = \"hello\""
   ]
  },
  {
   "cell_type": "code",
   "execution_count": 54,
   "id": "275c3ba7",
   "metadata": {},
   "outputs": [
    {
     "data": {
      "text/plain": [
       "'he'"
      ]
     },
     "execution_count": 54,
     "metadata": {},
     "output_type": "execute_result"
    }
   ],
   "source": [
    "a[0:2]"
   ]
  },
  {
   "cell_type": "code",
   "execution_count": 55,
   "id": "c8008d2a",
   "metadata": {},
   "outputs": [],
   "source": [
    "list = [\"java\",\"python\",]"
   ]
  },
  {
   "cell_type": "code",
   "execution_count": 56,
   "id": "570edc81",
   "metadata": {},
   "outputs": [
    {
     "data": {
      "text/plain": [
       "'pytho'"
      ]
     },
     "execution_count": 56,
     "metadata": {},
     "output_type": "execute_result"
    }
   ],
   "source": [
    "list[1] [0:5]"
   ]
  },
  {
   "cell_type": "markdown",
   "id": "6205540d",
   "metadata": {},
   "source": [
    "### Mathematical functions"
   ]
  },
  {
   "cell_type": "code",
   "execution_count": 60,
   "id": "56129412",
   "metadata": {},
   "outputs": [],
   "source": [
    "l = [ 1,2,4,7,52,45]"
   ]
  },
  {
   "cell_type": "code",
   "execution_count": 62,
   "id": "b476ada2",
   "metadata": {},
   "outputs": [
    {
     "data": {
      "text/plain": [
       "52"
      ]
     },
     "execution_count": 62,
     "metadata": {},
     "output_type": "execute_result"
    }
   ],
   "source": [
    "max(l)"
   ]
  },
  {
   "cell_type": "code",
   "execution_count": 63,
   "id": "f108c755",
   "metadata": {},
   "outputs": [
    {
     "data": {
      "text/plain": [
       "1"
      ]
     },
     "execution_count": 63,
     "metadata": {},
     "output_type": "execute_result"
    }
   ],
   "source": [
    "min(l)"
   ]
  },
  {
   "cell_type": "code",
   "execution_count": 64,
   "id": "542c2bec",
   "metadata": {},
   "outputs": [
    {
     "data": {
      "text/plain": [
       "111"
      ]
     },
     "execution_count": 64,
     "metadata": {},
     "output_type": "execute_result"
    }
   ],
   "source": [
    "sum(l)"
   ]
  },
  {
   "cell_type": "markdown",
   "id": "2052c387",
   "metadata": {},
   "source": [
    "### List methoods and functions"
   ]
  },
  {
   "cell_type": "markdown",
   "id": "2dc9ef65",
   "metadata": {},
   "source": [
    "#### append()"
   ]
  },
  {
   "cell_type": "code",
   "execution_count": 65,
   "id": "eb2dc989",
   "metadata": {},
   "outputs": [],
   "source": [
    "list1 = [1,2,3,4,5]"
   ]
  },
  {
   "cell_type": "code",
   "execution_count": 66,
   "id": "de6e73ef",
   "metadata": {},
   "outputs": [],
   "source": [
    "list1.append(100)"
   ]
  },
  {
   "cell_type": "code",
   "execution_count": 68,
   "id": "55f8489e",
   "metadata": {},
   "outputs": [
    {
     "data": {
      "text/plain": [
       "[1, 2, 3, 4, 5, 100]"
      ]
     },
     "execution_count": 68,
     "metadata": {},
     "output_type": "execute_result"
    }
   ],
   "source": [
    "list1"
   ]
  },
  {
   "cell_type": "code",
   "execution_count": 70,
   "id": "9d03b239",
   "metadata": {},
   "outputs": [],
   "source": [
    "list2 = [1,2,5,76,\"hello\"]"
   ]
  },
  {
   "cell_type": "code",
   "execution_count": 71,
   "id": "244cd7be",
   "metadata": {},
   "outputs": [],
   "source": [
    "list2.append(\"world\")"
   ]
  },
  {
   "cell_type": "code",
   "execution_count": 72,
   "id": "547ef3f9",
   "metadata": {},
   "outputs": [
    {
     "data": {
      "text/plain": [
       "[1, 2, 5, 76, 'hello', 'world']"
      ]
     },
     "execution_count": 72,
     "metadata": {},
     "output_type": "execute_result"
    }
   ],
   "source": [
    "list2"
   ]
  },
  {
   "cell_type": "markdown",
   "id": "d547dd44",
   "metadata": {},
   "source": [
    "### insert()"
   ]
  },
  {
   "cell_type": "code",
   "execution_count": 73,
   "id": "7c691942",
   "metadata": {},
   "outputs": [],
   "source": [
    "list = [11,22,33,45,67,88]"
   ]
  },
  {
   "cell_type": "code",
   "execution_count": 74,
   "id": "6d2bb47d",
   "metadata": {},
   "outputs": [],
   "source": [
    "list.insert(2,10)            # adding values between number"
   ]
  },
  {
   "cell_type": "code",
   "execution_count": 75,
   "id": "8327ec71",
   "metadata": {},
   "outputs": [
    {
     "data": {
      "text/plain": [
       "[11, 22, 10, 33, 45, 67, 88]"
      ]
     },
     "execution_count": 75,
     "metadata": {},
     "output_type": "execute_result"
    }
   ],
   "source": [
    "list"
   ]
  },
  {
   "cell_type": "code",
   "execution_count": 76,
   "id": "7b0b0f4a",
   "metadata": {},
   "outputs": [],
   "source": [
    "list = [22,34,74,\"hello\"]"
   ]
  },
  {
   "cell_type": "code",
   "execution_count": 77,
   "id": "e51ba3f1",
   "metadata": {},
   "outputs": [],
   "source": [
    "list.insert(4,\"world\")"
   ]
  },
  {
   "cell_type": "code",
   "execution_count": 78,
   "id": "5aa806ad",
   "metadata": {},
   "outputs": [
    {
     "data": {
      "text/plain": [
       "[22, 34, 74, 'hello', 'world']"
      ]
     },
     "execution_count": 78,
     "metadata": {},
     "output_type": "execute_result"
    }
   ],
   "source": [
    "list"
   ]
  },
  {
   "cell_type": "code",
   "execution_count": 79,
   "id": "aa1443d6",
   "metadata": {},
   "outputs": [],
   "source": [
    " list.insert(2,80)"
   ]
  },
  {
   "cell_type": "code",
   "execution_count": 80,
   "id": "9428c67d",
   "metadata": {},
   "outputs": [
    {
     "data": {
      "text/plain": [
       "[22, 34, 80, 74, 'hello', 'world']"
      ]
     },
     "execution_count": 80,
     "metadata": {},
     "output_type": "execute_result"
    }
   ],
   "source": [
    "list"
   ]
  },
  {
   "cell_type": "markdown",
   "id": "10b16ba1",
   "metadata": {},
   "source": [
    "### Extend()"
   ]
  },
  {
   "cell_type": "code",
   "execution_count": 103,
   "id": "baeaec44",
   "metadata": {},
   "outputs": [],
   "source": [
    "list2 = [1,2,3,4,5,6,7]"
   ]
  },
  {
   "cell_type": "code",
   "execution_count": 104,
   "id": "397e9000",
   "metadata": {},
   "outputs": [],
   "source": [
    "list2.extend([0,0,0])       # adding more values at the and "
   ]
  },
  {
   "cell_type": "code",
   "execution_count": 105,
   "id": "696da782",
   "metadata": {},
   "outputs": [
    {
     "data": {
      "text/plain": [
       "[1, 2, 3, 4, 5, 6, 7, 0, 0, 0]"
      ]
     },
     "execution_count": 105,
     "metadata": {},
     "output_type": "execute_result"
    }
   ],
   "source": [
    "list2"
   ]
  },
  {
   "cell_type": "code",
   "execution_count": 106,
   "id": "b894e3c6",
   "metadata": {},
   "outputs": [],
   "source": [
    "list2.extend([\"hello\"])"
   ]
  },
  {
   "cell_type": "code",
   "execution_count": 107,
   "id": "15f2402b",
   "metadata": {},
   "outputs": [
    {
     "data": {
      "text/plain": [
       "[1, 2, 3, 4, 5, 6, 7, 0, 0, 0, 'hello']"
      ]
     },
     "execution_count": 107,
     "metadata": {},
     "output_type": "execute_result"
    }
   ],
   "source": [
    "list2"
   ]
  },
  {
   "cell_type": "code",
   "execution_count": 108,
   "id": "13728828",
   "metadata": {},
   "outputs": [],
   "source": [
    "list2.extend([8,\"world\"])"
   ]
  },
  {
   "cell_type": "code",
   "execution_count": 109,
   "id": "475e46d1",
   "metadata": {},
   "outputs": [
    {
     "data": {
      "text/plain": [
       "[1, 2, 3, 4, 5, 6, 7, 0, 0, 0, 'hello', 8, 'world']"
      ]
     },
     "execution_count": 109,
     "metadata": {},
     "output_type": "execute_result"
    }
   ],
   "source": [
    "list2"
   ]
  },
  {
   "cell_type": "markdown",
   "id": "22db7875",
   "metadata": {},
   "source": [
    "### remove()"
   ]
  },
  {
   "cell_type": "code",
   "execution_count": 110,
   "id": "123fc245",
   "metadata": {},
   "outputs": [],
   "source": [
    "list = [11,22,33,44,55]"
   ]
  },
  {
   "cell_type": "code",
   "execution_count": 111,
   "id": "428cccea",
   "metadata": {},
   "outputs": [],
   "source": [
    "list.remove(33)"
   ]
  },
  {
   "cell_type": "code",
   "execution_count": 112,
   "id": "7510c4a2",
   "metadata": {},
   "outputs": [
    {
     "data": {
      "text/plain": [
       "[11, 22, 44, 55]"
      ]
     },
     "execution_count": 112,
     "metadata": {},
     "output_type": "execute_result"
    }
   ],
   "source": [
    "list"
   ]
  },
  {
   "cell_type": "code",
   "execution_count": 129,
   "id": "c5c8411f",
   "metadata": {},
   "outputs": [],
   "source": [
    "name = [\"bunny\",\"sai\",\"pallu\",]"
   ]
  },
  {
   "cell_type": "code",
   "execution_count": 130,
   "id": "d811ed39",
   "metadata": {},
   "outputs": [],
   "source": [
    "name.remove(\"pallu\") "
   ]
  },
  {
   "cell_type": "code",
   "execution_count": 131,
   "id": "9e78420e",
   "metadata": {},
   "outputs": [
    {
     "data": {
      "text/plain": [
       "['bunny', 'sai']"
      ]
     },
     "execution_count": 131,
     "metadata": {},
     "output_type": "execute_result"
    }
   ],
   "source": [
    "name"
   ]
  },
  {
   "cell_type": "markdown",
   "id": "1fe9ac39",
   "metadata": {},
   "source": [
    "### pop()"
   ]
  },
  {
   "cell_type": "code",
   "execution_count": 132,
   "id": "307a6371",
   "metadata": {},
   "outputs": [],
   "source": [
    "list = [1,22,33,44,55]"
   ]
  },
  {
   "cell_type": "code",
   "execution_count": 134,
   "id": "b5f76a98",
   "metadata": {},
   "outputs": [
    {
     "data": {
      "text/plain": [
       "33"
      ]
     },
     "execution_count": 134,
     "metadata": {},
     "output_type": "execute_result"
    }
   ],
   "source": [
    "list.pop(2)"
   ]
  },
  {
   "cell_type": "code",
   "execution_count": 135,
   "id": "c036ae5d",
   "metadata": {},
   "outputs": [
    {
     "data": {
      "text/plain": [
       "[1, 22, 44, 55]"
      ]
     },
     "execution_count": 135,
     "metadata": {},
     "output_type": "execute_result"
    }
   ],
   "source": [
    "list"
   ]
  },
  {
   "cell_type": "code",
   "execution_count": 136,
   "id": "0f8db761",
   "metadata": {},
   "outputs": [],
   "source": [
    "list = [\"python\",\"java\",\"sql\"]"
   ]
  },
  {
   "cell_type": "code",
   "execution_count": 137,
   "id": "f0ac01e6",
   "metadata": {},
   "outputs": [
    {
     "data": {
      "text/plain": [
       "'java'"
      ]
     },
     "execution_count": 137,
     "metadata": {},
     "output_type": "execute_result"
    }
   ],
   "source": [
    "list.pop(1)"
   ]
  },
  {
   "cell_type": "code",
   "execution_count": 138,
   "id": "cc02f0e0",
   "metadata": {},
   "outputs": [
    {
     "data": {
      "text/plain": [
       "['python', 'sql']"
      ]
     },
     "execution_count": 138,
     "metadata": {},
     "output_type": "execute_result"
    }
   ],
   "source": [
    "list"
   ]
  },
  {
   "cell_type": "markdown",
   "id": "6f303bfb",
   "metadata": {},
   "source": [
    "### clear()"
   ]
  },
  {
   "cell_type": "code",
   "execution_count": 139,
   "id": "c4a4c611",
   "metadata": {},
   "outputs": [],
   "source": [
    "list = [44,66,77,99]"
   ]
  },
  {
   "cell_type": "code",
   "execution_count": 141,
   "id": "e8343464",
   "metadata": {},
   "outputs": [],
   "source": [
    "list.clear()"
   ]
  },
  {
   "cell_type": "code",
   "execution_count": 142,
   "id": "d216544f",
   "metadata": {},
   "outputs": [
    {
     "data": {
      "text/plain": [
       "[]"
      ]
     },
     "execution_count": 142,
     "metadata": {},
     "output_type": "execute_result"
    }
   ],
   "source": [
    "list"
   ]
  },
  {
   "cell_type": "markdown",
   "id": "501bfd4f",
   "metadata": {},
   "source": [
    "### copy()"
   ]
  },
  {
   "cell_type": "code",
   "execution_count": 143,
   "id": "4a1c0da7",
   "metadata": {},
   "outputs": [],
   "source": [
    "list = [\"hello\",23,55]"
   ]
  },
  {
   "cell_type": "code",
   "execution_count": 144,
   "id": "1b0db8de",
   "metadata": {},
   "outputs": [
    {
     "data": {
      "text/plain": [
       "['hello', 23, 55]"
      ]
     },
     "execution_count": 144,
     "metadata": {},
     "output_type": "execute_result"
    }
   ],
   "source": [
    "list.copy()"
   ]
  },
  {
   "cell_type": "markdown",
   "id": "b43f26c5",
   "metadata": {},
   "source": [
    "### count()"
   ]
  },
  {
   "cell_type": "code",
   "execution_count": 145,
   "id": "affc1418",
   "metadata": {},
   "outputs": [],
   "source": [
    "list = [22,22,33,22,44,55,24]"
   ]
  },
  {
   "cell_type": "code",
   "execution_count": 146,
   "id": "aea4b65a",
   "metadata": {},
   "outputs": [
    {
     "data": {
      "text/plain": [
       "3"
      ]
     },
     "execution_count": 146,
     "metadata": {},
     "output_type": "execute_result"
    }
   ],
   "source": [
    "list.count(22)"
   ]
  },
  {
   "cell_type": "code",
   "execution_count": 147,
   "id": "de0afc0d",
   "metadata": {},
   "outputs": [],
   "source": [
    "name = [\"sai\",\"bunny\",\"sai\"]"
   ]
  },
  {
   "cell_type": "code",
   "execution_count": 148,
   "id": "e6eb0954",
   "metadata": {},
   "outputs": [
    {
     "data": {
      "text/plain": [
       "2"
      ]
     },
     "execution_count": 148,
     "metadata": {},
     "output_type": "execute_result"
    }
   ],
   "source": [
    "name.count(\"sai\")"
   ]
  },
  {
   "cell_type": "markdown",
   "id": "d4aab0d7",
   "metadata": {},
   "source": [
    "### index()"
   ]
  },
  {
   "cell_type": "code",
   "execution_count": 169,
   "id": "c6634918",
   "metadata": {},
   "outputs": [],
   "source": [
    "list = [\"hello\",1,2,3,4,\"hai\",5,6,7,8,9,10,\"Hi\",67,78]"
   ]
  },
  {
   "cell_type": "code",
   "execution_count": 174,
   "id": "ede2837a",
   "metadata": {},
   "outputs": [
    {
     "data": {
      "text/plain": [
       "12"
      ]
     },
     "execution_count": 174,
     "metadata": {},
     "output_type": "execute_result"
    }
   ],
   "source": [
    "list.index(\"Hi\")"
   ]
  },
  {
   "cell_type": "markdown",
   "id": "c333aecb",
   "metadata": {},
   "source": [
    "### TUPLE()"
   ]
  },
  {
   "cell_type": "markdown",
   "id": "125c2010",
   "metadata": {},
   "source": [
    "* IN TUPLE datatype we can store multiple values\n",
    "* Tuple datatype reptresents in parantheses"
   ]
  },
  {
   "cell_type": "code",
   "execution_count": 1,
   "id": "a6c892a4",
   "metadata": {},
   "outputs": [
    {
     "name": "stdout",
     "output_type": "stream",
     "text": [
      "Help on class tuple in module builtins:\n",
      "\n",
      "class tuple(object)\n",
      " |  tuple(iterable=(), /)\n",
      " |  \n",
      " |  Built-in immutable sequence.\n",
      " |  \n",
      " |  If no argument is given, the constructor returns an empty tuple.\n",
      " |  If iterable is specified the tuple is initialized from iterable's items.\n",
      " |  \n",
      " |  If the argument is a tuple, the return value is the same object.\n",
      " |  \n",
      " |  Built-in subclasses:\n",
      " |      asyncgen_hooks\n",
      " |      UnraisableHookArgs\n",
      " |  \n",
      " |  Methods defined here:\n",
      " |  \n",
      " |  __add__(self, value, /)\n",
      " |      Return self+value.\n",
      " |  \n",
      " |  __contains__(self, key, /)\n",
      " |      Return key in self.\n",
      " |  \n",
      " |  __eq__(self, value, /)\n",
      " |      Return self==value.\n",
      " |  \n",
      " |  __ge__(self, value, /)\n",
      " |      Return self>=value.\n",
      " |  \n",
      " |  __getattribute__(self, name, /)\n",
      " |      Return getattr(self, name).\n",
      " |  \n",
      " |  __getitem__(self, key, /)\n",
      " |      Return self[key].\n",
      " |  \n",
      " |  __getnewargs__(self, /)\n",
      " |  \n",
      " |  __gt__(self, value, /)\n",
      " |      Return self>value.\n",
      " |  \n",
      " |  __hash__(self, /)\n",
      " |      Return hash(self).\n",
      " |  \n",
      " |  __iter__(self, /)\n",
      " |      Implement iter(self).\n",
      " |  \n",
      " |  __le__(self, value, /)\n",
      " |      Return self<=value.\n",
      " |  \n",
      " |  __len__(self, /)\n",
      " |      Return len(self).\n",
      " |  \n",
      " |  __lt__(self, value, /)\n",
      " |      Return self<value.\n",
      " |  \n",
      " |  __mul__(self, value, /)\n",
      " |      Return self*value.\n",
      " |  \n",
      " |  __ne__(self, value, /)\n",
      " |      Return self!=value.\n",
      " |  \n",
      " |  __repr__(self, /)\n",
      " |      Return repr(self).\n",
      " |  \n",
      " |  __rmul__(self, value, /)\n",
      " |      Return value*self.\n",
      " |  \n",
      " |  count(self, value, /)\n",
      " |      Return number of occurrences of value.\n",
      " |  \n",
      " |  index(self, value, start=0, stop=9223372036854775807, /)\n",
      " |      Return first index of value.\n",
      " |      \n",
      " |      Raises ValueError if the value is not present.\n",
      " |  \n",
      " |  ----------------------------------------------------------------------\n",
      " |  Class methods defined here:\n",
      " |  \n",
      " |  __class_getitem__(...) from builtins.type\n",
      " |      See PEP 585\n",
      " |  \n",
      " |  ----------------------------------------------------------------------\n",
      " |  Static methods defined here:\n",
      " |  \n",
      " |  __new__(*args, **kwargs) from builtins.type\n",
      " |      Create and return a new object.  See help(type) for accurate signature.\n",
      "\n"
     ]
    }
   ],
   "source": [
    "help(tuple)"
   ]
  },
  {
   "cell_type": "markdown",
   "id": "92279f43",
   "metadata": {},
   "source": [
    "## creating the tuple"
   ]
  },
  {
   "cell_type": "code",
   "execution_count": 2,
   "id": "5278c308",
   "metadata": {},
   "outputs": [],
   "source": [
    "tup = (44,55,66,77)"
   ]
  },
  {
   "cell_type": "code",
   "execution_count": 4,
   "id": "a16bf159",
   "metadata": {},
   "outputs": [
    {
     "name": "stdout",
     "output_type": "stream",
     "text": [
      "<class 'tuple'>\n"
     ]
    }
   ],
   "source": [
    "print(tuple)"
   ]
  },
  {
   "cell_type": "code",
   "execution_count": 5,
   "id": "e653602e",
   "metadata": {},
   "outputs": [
    {
     "name": "stdout",
     "output_type": "stream",
     "text": [
      "(44, 55, 66, 77)\n"
     ]
    }
   ],
   "source": [
    "print(tup)"
   ]
  },
  {
   "cell_type": "code",
   "execution_count": 3,
   "id": "436d3db3",
   "metadata": {},
   "outputs": [
    {
     "data": {
      "text/plain": [
       "tuple"
      ]
     },
     "execution_count": 3,
     "metadata": {},
     "output_type": "execute_result"
    }
   ],
   "source": [
    "type(tup)"
   ]
  },
  {
   "cell_type": "code",
   "execution_count": 6,
   "id": "82ad1fcf",
   "metadata": {},
   "outputs": [
    {
     "data": {
      "text/plain": [
       "2138661412336"
      ]
     },
     "execution_count": 6,
     "metadata": {},
     "output_type": "execute_result"
    }
   ],
   "source": [
    "id(tup)"
   ]
  },
  {
   "cell_type": "code",
   "execution_count": 7,
   "id": "ae67ad07",
   "metadata": {},
   "outputs": [
    {
     "data": {
      "text/plain": [
       "4"
      ]
     },
     "execution_count": 7,
     "metadata": {},
     "output_type": "execute_result"
    }
   ],
   "source": [
    "len(tup)"
   ]
  },
  {
   "cell_type": "code",
   "execution_count": 8,
   "id": "ca7b190d",
   "metadata": {},
   "outputs": [
    {
     "data": {
      "text/plain": [
       "['__add__',\n",
       " '__class__',\n",
       " '__class_getitem__',\n",
       " '__contains__',\n",
       " '__delattr__',\n",
       " '__dir__',\n",
       " '__doc__',\n",
       " '__eq__',\n",
       " '__format__',\n",
       " '__ge__',\n",
       " '__getattribute__',\n",
       " '__getitem__',\n",
       " '__getnewargs__',\n",
       " '__getstate__',\n",
       " '__gt__',\n",
       " '__hash__',\n",
       " '__init__',\n",
       " '__init_subclass__',\n",
       " '__iter__',\n",
       " '__le__',\n",
       " '__len__',\n",
       " '__lt__',\n",
       " '__mul__',\n",
       " '__ne__',\n",
       " '__new__',\n",
       " '__reduce__',\n",
       " '__reduce_ex__',\n",
       " '__repr__',\n",
       " '__rmul__',\n",
       " '__setattr__',\n",
       " '__sizeof__',\n",
       " '__str__',\n",
       " '__subclasshook__',\n",
       " 'count',\n",
       " 'index']"
      ]
     },
     "execution_count": 8,
     "metadata": {},
     "output_type": "execute_result"
    }
   ],
   "source": [
    "dir(tuple)"
   ]
  },
  {
   "cell_type": "code",
   "execution_count": 11,
   "id": "ac0c41c5",
   "metadata": {},
   "outputs": [],
   "source": [
    "val = tuple ([\"hyd\",\"kkd\",\"rjy\"])"
   ]
  },
  {
   "cell_type": "code",
   "execution_count": 12,
   "id": "b9b0c8bf",
   "metadata": {},
   "outputs": [
    {
     "data": {
      "text/plain": [
       "tuple"
      ]
     },
     "execution_count": 12,
     "metadata": {},
     "output_type": "execute_result"
    }
   ],
   "source": [
    "type(val)"
   ]
  },
  {
   "cell_type": "markdown",
   "id": "d3c164f4",
   "metadata": {},
   "source": [
    "## TUPLE METHODS AND FUNCNTIONS"
   ]
  },
  {
   "cell_type": "markdown",
   "id": "d488123e",
   "metadata": {},
   "source": [
    "#### COUNT()"
   ]
  },
  {
   "cell_type": "code",
   "execution_count": 14,
   "id": "59d4105c",
   "metadata": {},
   "outputs": [],
   "source": [
    "t = (77,88,99,66,55,55)"
   ]
  },
  {
   "cell_type": "code",
   "execution_count": 15,
   "id": "155d32c5",
   "metadata": {},
   "outputs": [
    {
     "data": {
      "text/plain": [
       "2"
      ]
     },
     "execution_count": 15,
     "metadata": {},
     "output_type": "execute_result"
    }
   ],
   "source": [
    "t.count(55)"
   ]
  },
  {
   "cell_type": "markdown",
   "id": "bb8eb90a",
   "metadata": {},
   "source": [
    "### index ()"
   ]
  },
  {
   "cell_type": "code",
   "execution_count": 16,
   "id": "1fed8902",
   "metadata": {},
   "outputs": [],
   "source": [
    "num = (55,99,66,33,44,88)"
   ]
  },
  {
   "cell_type": "code",
   "execution_count": 17,
   "id": "fb68f9ed",
   "metadata": {},
   "outputs": [
    {
     "data": {
      "text/plain": [
       "2"
      ]
     },
     "execution_count": 17,
     "metadata": {},
     "output_type": "execute_result"
    }
   ],
   "source": [
    "num.index(66)"
   ]
  },
  {
   "cell_type": "code",
   "execution_count": 18,
   "id": "ca879321",
   "metadata": {},
   "outputs": [
    {
     "data": {
      "text/plain": [
       "4"
      ]
     },
     "execution_count": 18,
     "metadata": {},
     "output_type": "execute_result"
    }
   ],
   "source": [
    "num.index(44)"
   ]
  },
  {
   "cell_type": "code",
   "execution_count": null,
   "id": "c2edd48b",
   "metadata": {},
   "outputs": [],
   "source": []
  },
  {
   "cell_type": "markdown",
   "id": "c83357ac",
   "metadata": {},
   "source": [
    "### Attributes of tuple"
   ]
  },
  {
   "cell_type": "markdown",
   "id": "f388cd3f",
   "metadata": {},
   "source": [
    "IM - immutable\n",
    "\n",
    "O - ordered\n",
    "\n",
    "D - Duplicates\n",
    "\n",
    "I - index"
   ]
  },
  {
   "cell_type": "markdown",
   "id": "1ff8497e",
   "metadata": {},
   "source": [
    "### immutable"
   ]
  },
  {
   "cell_type": "markdown",
   "id": "f2b2f780",
   "metadata": {},
   "source": [
    "* once a tuple is creating you cannot change,add or remove elements from it"
   ]
  },
  {
   "cell_type": "markdown",
   "id": "18e0098c",
   "metadata": {},
   "source": [
    "### ordered"
   ]
  },
  {
   "cell_type": "markdown",
   "id": "3cf5a39e",
   "metadata": {},
   "source": [
    "* follow some sequency or numbering"
   ]
  },
  {
   "cell_type": "markdown",
   "id": "f8a6caec",
   "metadata": {},
   "source": [
    "### Duplicates"
   ]
  },
  {
   "cell_type": "markdown",
   "id": "dc747024",
   "metadata": {},
   "source": [
    "* it allows duplicates values"
   ]
  },
  {
   "cell_type": "markdown",
   "id": "0dc922e6",
   "metadata": {},
   "source": [
    "### index"
   ]
  },
  {
   "cell_type": "markdown",
   "id": "f1af6efb",
   "metadata": {},
   "source": [
    "* it follow index number"
   ]
  },
  {
   "cell_type": "code",
   "execution_count": 25,
   "id": "bfbd83cf",
   "metadata": {},
   "outputs": [],
   "source": [
    "t = (11,22,33,44,55,66)"
   ]
  },
  {
   "cell_type": "code",
   "execution_count": 26,
   "id": "205569c0",
   "metadata": {},
   "outputs": [
    {
     "data": {
      "text/plain": [
       "66"
      ]
     },
     "execution_count": 26,
     "metadata": {},
     "output_type": "execute_result"
    }
   ],
   "source": [
    "t[5]"
   ]
  },
  {
   "cell_type": "code",
   "execution_count": 27,
   "id": "224e5648",
   "metadata": {},
   "outputs": [
    {
     "data": {
      "text/plain": [
       "(33, 44, 55)"
      ]
     },
     "execution_count": 27,
     "metadata": {},
     "output_type": "execute_result"
    }
   ],
   "source": [
    "t[2:5]"
   ]
  },
  {
   "cell_type": "code",
   "execution_count": 29,
   "id": "2ea70578",
   "metadata": {},
   "outputs": [
    {
     "data": {
      "text/plain": [
       "(22, 44)"
      ]
     },
     "execution_count": 29,
     "metadata": {},
     "output_type": "execute_result"
    }
   ],
   "source": [
    "t[1:4:2]"
   ]
  },
  {
   "cell_type": "code",
   "execution_count": 31,
   "id": "06e21c7c",
   "metadata": {},
   "outputs": [],
   "source": [
    "t = (1,2,3,4,5,6)\n",
    "t2= (7,8,9,10)"
   ]
  },
  {
   "cell_type": "code",
   "execution_count": 32,
   "id": "9d9cfbba",
   "metadata": {},
   "outputs": [
    {
     "data": {
      "text/plain": [
       "(1, 2, 3, 4, 5, 6, 7, 8, 9, 10)"
      ]
     },
     "execution_count": 32,
     "metadata": {},
     "output_type": "execute_result"
    }
   ],
   "source": [
    "t+t2"
   ]
  },
  {
   "cell_type": "markdown",
   "id": "87625204",
   "metadata": {},
   "source": [
    "### time and speed"
   ]
  },
  {
   "cell_type": "code",
   "execution_count": 46,
   "id": "be723149",
   "metadata": {},
   "outputs": [],
   "source": [
    "list1 = [1,2,3,4,5]"
   ]
  },
  {
   "cell_type": "code",
   "execution_count": 47,
   "id": "d4931823",
   "metadata": {},
   "outputs": [],
   "source": [
    "tuple1 = (1,2,3,4,5)"
   ]
  },
  {
   "cell_type": "code",
   "execution_count": 48,
   "id": "09d2bfa7",
   "metadata": {},
   "outputs": [],
   "source": [
    "import sys"
   ]
  },
  {
   "cell_type": "code",
   "execution_count": 49,
   "id": "6046048d",
   "metadata": {},
   "outputs": [
    {
     "data": {
      "text/plain": [
       "104"
      ]
     },
     "execution_count": 49,
     "metadata": {},
     "output_type": "execute_result"
    }
   ],
   "source": [
    "sys.getsizeof(list)        # list takes more memory"
   ]
  },
  {
   "cell_type": "code",
   "execution_count": 50,
   "id": "23284d63",
   "metadata": {},
   "outputs": [
    {
     "data": {
      "text/plain": [
       "80"
      ]
     },
     "execution_count": 50,
     "metadata": {},
     "output_type": "execute_result"
    }
   ],
   "source": [
    "sys.getsizeof(tuple)"
   ]
  },
  {
   "cell_type": "code",
   "execution_count": 51,
   "id": "a37d73fc",
   "metadata": {},
   "outputs": [],
   "source": [
    "import timeit"
   ]
  },
  {
   "cell_type": "code",
   "execution_count": 52,
   "id": "c6625309",
   "metadata": {},
   "outputs": [
    {
     "data": {
      "text/plain": [
       "0.11182889994233847"
      ]
     },
     "execution_count": 52,
     "metadata": {},
     "output_type": "execute_result"
    }
   ],
   "source": [
    "timeit.timeit(stmt=f'{list}')       # list takes more time"
   ]
  },
  {
   "cell_type": "code",
   "execution_count": 54,
   "id": "0dc4201b",
   "metadata": {},
   "outputs": [
    {
     "data": {
      "text/plain": [
       "0.016618299996480346"
      ]
     },
     "execution_count": 54,
     "metadata": {},
     "output_type": "execute_result"
    }
   ],
   "source": [
    "timeit.timeit(stmt=f'{tuple}')     # tuple takes more time"
   ]
  },
  {
   "cell_type": "markdown",
   "id": "df6a6e72",
   "metadata": {},
   "source": [
    "## Difference between list and tuple"
   ]
  },
  {
   "cell_type": "markdown",
   "id": "84826f6d",
   "metadata": {},
   "source": [
    "list      -      tuple\n",
    "\n",
    "mutable   -      immutable\n",
    "\n",
    "more memory      -     less memory\n",
    "\n",
    "more time        -      less time"
   ]
  },
  {
   "cell_type": "markdown",
   "id": "15551564",
   "metadata": {},
   "source": [
    "### SET{}"
   ]
  },
  {
   "cell_type": "markdown",
   "id": "11bea077",
   "metadata": {},
   "source": [
    "* storing multiple values\n",
    "* set datatypes represents in {}"
   ]
  },
  {
   "cell_type": "markdown",
   "id": "9eed9f7c",
   "metadata": {},
   "source": [
    "### ATTRIBUTES OF SET"
   ]
  },
  {
   "cell_type": "markdown",
   "id": "c2e8d8da",
   "metadata": {},
   "source": [
    "* MUTABLE\n",
    "\n",
    "* UNORDERED\n",
    "\n",
    "* NO DUPLICATES\n",
    "\n",
    "* NO INDEX"
   ]
  },
  {
   "cell_type": "markdown",
   "id": "9c04c3e9",
   "metadata": {},
   "source": [
    "### CREATING SETS"
   ]
  },
  {
   "cell_type": "markdown",
   "id": "7a69d170",
   "metadata": {},
   "source": [
    "* sets can be created two ways\n",
    "* using curly brackets\n",
    "* using class set"
   ]
  },
  {
   "cell_type": "code",
   "execution_count": 2,
   "id": "30fd6d54",
   "metadata": {},
   "outputs": [],
   "source": [
    "set1 = {1,2,3,4,5}"
   ]
  },
  {
   "cell_type": "code",
   "execution_count": 4,
   "id": "d940897d",
   "metadata": {},
   "outputs": [
    {
     "data": {
      "text/plain": [
       "set"
      ]
     },
     "execution_count": 4,
     "metadata": {},
     "output_type": "execute_result"
    }
   ],
   "source": [
    "type(set1)"
   ]
  },
  {
   "cell_type": "code",
   "execution_count": 5,
   "id": "7b412916",
   "metadata": {},
   "outputs": [
    {
     "data": {
      "text/plain": [
       "2249536530336"
      ]
     },
     "execution_count": 5,
     "metadata": {},
     "output_type": "execute_result"
    }
   ],
   "source": [
    "id(set1)"
   ]
  },
  {
   "cell_type": "code",
   "execution_count": 6,
   "id": "67b8edf5",
   "metadata": {},
   "outputs": [
    {
     "data": {
      "text/plain": [
       "5"
      ]
     },
     "execution_count": 6,
     "metadata": {},
     "output_type": "execute_result"
    }
   ],
   "source": [
    "len(set1)"
   ]
  },
  {
   "cell_type": "markdown",
   "id": "c5698d70",
   "metadata": {},
   "source": [
    "### EMPTY SET"
   ]
  },
  {
   "cell_type": "code",
   "execution_count": 7,
   "id": "365fd21a",
   "metadata": {},
   "outputs": [],
   "source": [
    "set2 = set()"
   ]
  },
  {
   "cell_type": "code",
   "execution_count": 8,
   "id": "64bbed87",
   "metadata": {},
   "outputs": [
    {
     "data": {
      "text/plain": [
       "set"
      ]
     },
     "execution_count": 8,
     "metadata": {},
     "output_type": "execute_result"
    }
   ],
   "source": [
    "type(set2)"
   ]
  },
  {
   "cell_type": "markdown",
   "id": "463c2121",
   "metadata": {},
   "source": [
    "### methods and functions"
   ]
  },
  {
   "cell_type": "code",
   "execution_count": 18,
   "id": "367fef62",
   "metadata": {},
   "outputs": [],
   "source": [
    "set1 = {1,2,3,4,5}        # set is mutable"
   ]
  },
  {
   "cell_type": "code",
   "execution_count": 20,
   "id": "07feafde",
   "metadata": {},
   "outputs": [],
   "source": [
    "set1.add(10)"
   ]
  },
  {
   "cell_type": "code",
   "execution_count": 21,
   "id": "933b4f12",
   "metadata": {},
   "outputs": [
    {
     "data": {
      "text/plain": [
       "{1, 2, 3, 4, 5, 10}"
      ]
     },
     "execution_count": 21,
     "metadata": {},
     "output_type": "execute_result"
    }
   ],
   "source": [
    "set1"
   ]
  },
  {
   "cell_type": "code",
   "execution_count": 25,
   "id": "150285ca",
   "metadata": {},
   "outputs": [],
   "source": [
    "name = {3,3,\"hello\",\"hii\",True}"
   ]
  },
  {
   "cell_type": "code",
   "execution_count": 26,
   "id": "64eb786c",
   "metadata": {},
   "outputs": [
    {
     "data": {
      "text/plain": [
       "4"
      ]
     },
     "execution_count": 26,
     "metadata": {},
     "output_type": "execute_result"
    }
   ],
   "source": [
    "len(name)"
   ]
  },
  {
   "cell_type": "code",
   "execution_count": 27,
   "id": "308f6a49",
   "metadata": {},
   "outputs": [
    {
     "data": {
      "text/plain": [
       "1"
      ]
     },
     "execution_count": 27,
     "metadata": {},
     "output_type": "execute_result"
    }
   ],
   "source": [
    "int(True)"
   ]
  },
  {
   "cell_type": "code",
   "execution_count": 28,
   "id": "2a86796c",
   "metadata": {},
   "outputs": [],
   "source": [
    "n = {True,False,True,False}"
   ]
  },
  {
   "cell_type": "code",
   "execution_count": 29,
   "id": "1c3db8d4",
   "metadata": {},
   "outputs": [
    {
     "data": {
      "text/plain": [
       "{False, True}"
      ]
     },
     "execution_count": 29,
     "metadata": {},
     "output_type": "execute_result"
    }
   ],
   "source": [
    "n"
   ]
  },
  {
   "cell_type": "code",
   "execution_count": 30,
   "id": "684ca934",
   "metadata": {},
   "outputs": [
    {
     "data": {
      "text/plain": [
       "['__and__',\n",
       " '__class__',\n",
       " '__class_getitem__',\n",
       " '__contains__',\n",
       " '__delattr__',\n",
       " '__dir__',\n",
       " '__doc__',\n",
       " '__eq__',\n",
       " '__format__',\n",
       " '__ge__',\n",
       " '__getattribute__',\n",
       " '__getstate__',\n",
       " '__gt__',\n",
       " '__hash__',\n",
       " '__iand__',\n",
       " '__init__',\n",
       " '__init_subclass__',\n",
       " '__ior__',\n",
       " '__isub__',\n",
       " '__iter__',\n",
       " '__ixor__',\n",
       " '__le__',\n",
       " '__len__',\n",
       " '__lt__',\n",
       " '__ne__',\n",
       " '__new__',\n",
       " '__or__',\n",
       " '__rand__',\n",
       " '__reduce__',\n",
       " '__reduce_ex__',\n",
       " '__repr__',\n",
       " '__ror__',\n",
       " '__rsub__',\n",
       " '__rxor__',\n",
       " '__setattr__',\n",
       " '__sizeof__',\n",
       " '__str__',\n",
       " '__sub__',\n",
       " '__subclasshook__',\n",
       " '__xor__',\n",
       " 'add',\n",
       " 'clear',\n",
       " 'copy',\n",
       " 'difference',\n",
       " 'difference_update',\n",
       " 'discard',\n",
       " 'intersection',\n",
       " 'intersection_update',\n",
       " 'isdisjoint',\n",
       " 'issubset',\n",
       " 'issuperset',\n",
       " 'pop',\n",
       " 'remove',\n",
       " 'symmetric_difference',\n",
       " 'symmetric_difference_update',\n",
       " 'union',\n",
       " 'update']"
      ]
     },
     "execution_count": 30,
     "metadata": {},
     "output_type": "execute_result"
    }
   ],
   "source": [
    "s = set\n",
    "dir(s)"
   ]
  },
  {
   "cell_type": "markdown",
   "id": "05014be1",
   "metadata": {},
   "source": [
    "### add()"
   ]
  },
  {
   "cell_type": "code",
   "execution_count": 31,
   "id": "d9f044e4",
   "metadata": {},
   "outputs": [],
   "source": [
    "set = {1,2,3,5}"
   ]
  },
  {
   "cell_type": "code",
   "execution_count": 32,
   "id": "e5409135",
   "metadata": {},
   "outputs": [],
   "source": [
    "set.add(7)"
   ]
  },
  {
   "cell_type": "code",
   "execution_count": 33,
   "id": "776f69d5",
   "metadata": {},
   "outputs": [
    {
     "data": {
      "text/plain": [
       "{1, 2, 3, 5, 7}"
      ]
     },
     "execution_count": 33,
     "metadata": {},
     "output_type": "execute_result"
    }
   ],
   "source": [
    "set"
   ]
  },
  {
   "cell_type": "markdown",
   "id": "72bd6543",
   "metadata": {},
   "source": [
    "### clear()"
   ]
  },
  {
   "cell_type": "code",
   "execution_count": 34,
   "id": "adaebd2e",
   "metadata": {},
   "outputs": [],
   "source": [
    "set ={11,22,33,44,55}        # it removes all elements in set"
   ]
  },
  {
   "cell_type": "code",
   "execution_count": 35,
   "id": "f5ee5deb",
   "metadata": {},
   "outputs": [],
   "source": [
    "set1.clear()"
   ]
  },
  {
   "cell_type": "code",
   "execution_count": 37,
   "id": "4b39d9e9",
   "metadata": {},
   "outputs": [
    {
     "data": {
      "text/plain": [
       "set()"
      ]
     },
     "execution_count": 37,
     "metadata": {},
     "output_type": "execute_result"
    }
   ],
   "source": [
    "set1"
   ]
  },
  {
   "cell_type": "markdown",
   "id": "8a96918b",
   "metadata": {},
   "source": [
    "### copy()"
   ]
  },
  {
   "cell_type": "code",
   "execution_count": 39,
   "id": "561dd439",
   "metadata": {},
   "outputs": [],
   "source": [
    "set2 = {12,23,34,45}"
   ]
  },
  {
   "cell_type": "raw",
   "id": "da1ff31b",
   "metadata": {},
   "source": [
    "set2.copy()"
   ]
  },
  {
   "cell_type": "code",
   "execution_count": 40,
   "id": "0e90b731",
   "metadata": {},
   "outputs": [
    {
     "data": {
      "text/plain": [
       "{12, 23, 34, 45}"
      ]
     },
     "execution_count": 40,
     "metadata": {},
     "output_type": "execute_result"
    }
   ],
   "source": [
    "set2"
   ]
  },
  {
   "cell_type": "markdown",
   "id": "fa233b61",
   "metadata": {},
   "source": [
    "### difference"
   ]
  },
  {
   "cell_type": "code",
   "execution_count": 42,
   "id": "b4b0cabc",
   "metadata": {},
   "outputs": [],
   "source": [
    "a = {1,2,3,4,5}\n",
    "b = {6,7,8,9,10}\n",
    "c = {'a','b','c'}"
   ]
  },
  {
   "cell_type": "code",
   "execution_count": 43,
   "id": "fb5f17a9",
   "metadata": {},
   "outputs": [
    {
     "name": "stdout",
     "output_type": "stream",
     "text": [
      "{1, 2, 3, 4, 5}\n",
      "{6, 7, 8, 9, 10}\n",
      "{'a', 'c', 'b'}\n"
     ]
    }
   ],
   "source": [
    "print(a,b,c,sep=\"\\n\")"
   ]
  },
  {
   "cell_type": "code",
   "execution_count": 44,
   "id": "d0866100",
   "metadata": {},
   "outputs": [
    {
     "data": {
      "text/plain": [
       "{1, 2, 3, 4, 5}"
      ]
     },
     "execution_count": 44,
     "metadata": {},
     "output_type": "execute_result"
    }
   ],
   "source": [
    "a.difference(b)"
   ]
  },
  {
   "cell_type": "code",
   "execution_count": 46,
   "id": "920b45be",
   "metadata": {},
   "outputs": [
    {
     "data": {
      "text/plain": [
       "{6, 7, 8, 9, 10}"
      ]
     },
     "execution_count": 46,
     "metadata": {},
     "output_type": "execute_result"
    }
   ],
   "source": [
    "\n",
    "b.difference(a)"
   ]
  },
  {
   "cell_type": "markdown",
   "id": "cd9c8372",
   "metadata": {},
   "source": [
    "### discard()"
   ]
  },
  {
   "cell_type": "code",
   "execution_count": 47,
   "id": "0a4658a4",
   "metadata": {},
   "outputs": [],
   "source": [
    "x = {12,24,36,48}"
   ]
  },
  {
   "cell_type": "code",
   "execution_count": 48,
   "id": "1a5db5e5",
   "metadata": {},
   "outputs": [],
   "source": [
    "x.discard(9)"
   ]
  },
  {
   "cell_type": "code",
   "execution_count": 49,
   "id": "36b77c08",
   "metadata": {},
   "outputs": [
    {
     "name": "stdout",
     "output_type": "stream",
     "text": [
      "{24, 48, 12, 36}\n"
     ]
    }
   ],
   "source": [
    "print(x)"
   ]
  },
  {
   "cell_type": "code",
   "execution_count": 52,
   "id": "23ebbced",
   "metadata": {},
   "outputs": [],
   "source": [
    "x = {12,44,52,27,7}\n",
    "x.discard(9)"
   ]
  },
  {
   "cell_type": "code",
   "execution_count": 53,
   "id": "cee5cfe1",
   "metadata": {},
   "outputs": [
    {
     "name": "stdout",
     "output_type": "stream",
     "text": [
      "{52, 7, 27, 12, 44}\n"
     ]
    }
   ],
   "source": [
    "print(x)"
   ]
  },
  {
   "cell_type": "markdown",
   "id": "13f171ec",
   "metadata": {},
   "source": [
    "### union()"
   ]
  },
  {
   "cell_type": "code",
   "execution_count": 54,
   "id": "457a1d07",
   "metadata": {},
   "outputs": [],
   "source": [
    "set1 = {0,1,2,3,4,5}\n",
    "set2 = {2,4,100,200,300}"
   ]
  },
  {
   "cell_type": "code",
   "execution_count": 55,
   "id": "40a588bb",
   "metadata": {},
   "outputs": [
    {
     "data": {
      "text/plain": [
       "{2, 4, 11, 22, 33, 44, 55, 100, 200, 300}"
      ]
     },
     "execution_count": 55,
     "metadata": {},
     "output_type": "execute_result"
    }
   ],
   "source": [
    "set.union(set2)"
   ]
  },
  {
   "cell_type": "markdown",
   "id": "4f304945",
   "metadata": {},
   "source": [
    "### intersection()"
   ]
  },
  {
   "cell_type": "code",
   "execution_count": 57,
   "id": "40c1d97d",
   "metadata": {},
   "outputs": [],
   "source": [
    "set1 = {0,1,2,3,4,5}\n",
    "set2 = {2,4,100,200,300}"
   ]
  },
  {
   "cell_type": "code",
   "execution_count": 58,
   "id": "90eea417",
   "metadata": {},
   "outputs": [
    {
     "data": {
      "text/plain": [
       "{2, 4}"
      ]
     },
     "execution_count": 58,
     "metadata": {},
     "output_type": "execute_result"
    }
   ],
   "source": [
    "set.intersection(set2)        # consist of all elements which are common in both set1 and set2"
   ]
  },
  {
   "cell_type": "markdown",
   "id": "765dbfb0",
   "metadata": {},
   "source": [
    "### Dictionary()"
   ]
  },
  {
   "cell_type": "markdown",
   "id": "6e0d7361",
   "metadata": {},
   "source": [
    "* in dictionary datatype we store values and data in the form of KEY VALUE PAIR"
   ]
  },
  {
   "cell_type": "markdown",
   "id": "f7e75981",
   "metadata": {},
   "source": [
    "## Attributes of dict"
   ]
  },
  {
   "cell_type": "markdown",
   "id": "8ed7a667",
   "metadata": {},
   "source": [
    "* mutable\n",
    "\n",
    "we can change,add or remove items\n",
    "\n",
    "* no duplicates\n",
    "\n",
    "Duplicates not allow,keys can not duplicates but values can be \n",
    "\n",
    "* unordered "
   ]
  },
  {
   "cell_type": "markdown",
   "id": "7b03a2a4",
   "metadata": {},
   "source": [
    "keys       - uniques\n",
    "\n",
    "values     - duplicates"
   ]
  },
  {
   "cell_type": "markdown",
   "id": "8c4d3974",
   "metadata": {},
   "source": [
    "## methods 1"
   ]
  },
  {
   "cell_type": "code",
   "execution_count": 59,
   "id": "bc05f14d",
   "metadata": {},
   "outputs": [],
   "source": [
    "d = {1:\"hello\",2:\"hii\",3:\"hello\"}"
   ]
  },
  {
   "cell_type": "code",
   "execution_count": 60,
   "id": "e2a240f3",
   "metadata": {},
   "outputs": [],
   "source": [
    "d[4] = \"bye\""
   ]
  },
  {
   "cell_type": "code",
   "execution_count": 61,
   "id": "2a08c778",
   "metadata": {},
   "outputs": [
    {
     "data": {
      "text/plain": [
       "{1: 'hello', 2: 'hii', 3: 'hello', 4: 'bye'}"
      ]
     },
     "execution_count": 61,
     "metadata": {},
     "output_type": "execute_result"
    }
   ],
   "source": [
    "d"
   ]
  },
  {
   "cell_type": "code",
   "execution_count": 62,
   "id": "d082129e",
   "metadata": {},
   "outputs": [
    {
     "data": {
      "text/plain": [
       "dict"
      ]
     },
     "execution_count": 62,
     "metadata": {},
     "output_type": "execute_result"
    }
   ],
   "source": [
    "type(d)"
   ]
  },
  {
   "cell_type": "code",
   "execution_count": 63,
   "id": "528f1e49",
   "metadata": {},
   "outputs": [
    {
     "data": {
      "text/plain": [
       "2249542357632"
      ]
     },
     "execution_count": 63,
     "metadata": {},
     "output_type": "execute_result"
    }
   ],
   "source": [
    "id(d)"
   ]
  },
  {
   "cell_type": "code",
   "execution_count": 64,
   "id": "276feb5b",
   "metadata": {},
   "outputs": [
    {
     "data": {
      "text/plain": [
       "4"
      ]
     },
     "execution_count": 64,
     "metadata": {},
     "output_type": "execute_result"
    }
   ],
   "source": [
    "len(d)"
   ]
  },
  {
   "cell_type": "markdown",
   "id": "936fe1a7",
   "metadata": {},
   "source": [
    "## method 2"
   ]
  },
  {
   "cell_type": "code",
   "execution_count": 67,
   "id": "ddd72b3f",
   "metadata": {},
   "outputs": [],
   "source": [
    "key = [1,2,3,4]"
   ]
  },
  {
   "cell_type": "code",
   "execution_count": 68,
   "id": "a6444c38",
   "metadata": {},
   "outputs": [],
   "source": [
    "values = [\"python\",\"sql\",\"stats\",\"ml\"]"
   ]
  },
  {
   "cell_type": "code",
   "execution_count": 69,
   "id": "0ff85d67",
   "metadata": {},
   "outputs": [
    {
     "data": {
      "text/plain": [
       "{1: 'python', 2: 'sql', 3: 'stats', 4: 'ml'}"
      ]
     },
     "execution_count": 69,
     "metadata": {},
     "output_type": "execute_result"
    }
   ],
   "source": [
    "dict(zip(key,values))"
   ]
  },
  {
   "cell_type": "markdown",
   "id": "ff0004d7",
   "metadata": {},
   "source": [
    "### methods and functions"
   ]
  },
  {
   "cell_type": "code",
   "execution_count": 105,
   "id": "e15abf3f",
   "metadata": {},
   "outputs": [],
   "source": [
    "d = {\"apple\":45,\"grapes\":30,\"mango\":50,\"banna\":20}"
   ]
  },
  {
   "cell_type": "code",
   "execution_count": 106,
   "id": "978cc5a9",
   "metadata": {},
   "outputs": [
    {
     "data": {
      "text/plain": [
       "{'apple': 45, 'grapes': 30, 'mango': 50, 'banna': 20}"
      ]
     },
     "execution_count": 106,
     "metadata": {},
     "output_type": "execute_result"
    }
   ],
   "source": [
    "d"
   ]
  },
  {
   "cell_type": "code",
   "execution_count": 107,
   "id": "d7822c2c",
   "metadata": {},
   "outputs": [
    {
     "data": {
      "text/plain": [
       "dict_items([('apple', 45), ('grapes', 30), ('mango', 50), ('banna', 20)])"
      ]
     },
     "execution_count": 107,
     "metadata": {},
     "output_type": "execute_result"
    }
   ],
   "source": [
    "d.items( )       # key and values are combined"
   ]
  },
  {
   "cell_type": "code",
   "execution_count": 108,
   "id": "703ef412",
   "metadata": {},
   "outputs": [
    {
     "data": {
      "text/plain": [
       "dict_keys(['apple', 'grapes', 'mango', 'banna'])"
      ]
     },
     "execution_count": 108,
     "metadata": {},
     "output_type": "execute_result"
    }
   ],
   "source": [
    "d.keys()"
   ]
  },
  {
   "cell_type": "code",
   "execution_count": 109,
   "id": "b1f3ee66",
   "metadata": {},
   "outputs": [
    {
     "data": {
      "text/plain": [
       "dict_values([45, 30, 50, 20])"
      ]
     },
     "execution_count": 109,
     "metadata": {},
     "output_type": "execute_result"
    }
   ],
   "source": [
    "d.values()"
   ]
  },
  {
   "cell_type": "code",
   "execution_count": 110,
   "id": "1b4f6b6f",
   "metadata": {},
   "outputs": [
    {
     "data": {
      "text/plain": [
       "50"
      ]
     },
     "execution_count": 110,
     "metadata": {},
     "output_type": "execute_result"
    }
   ],
   "source": [
    "d.pop(\"mango\")"
   ]
  },
  {
   "cell_type": "code",
   "execution_count": 111,
   "id": "71661c94",
   "metadata": {},
   "outputs": [
    {
     "data": {
      "text/plain": [
       "{'apple': 45, 'grapes': 30, 'banna': 20}"
      ]
     },
     "execution_count": 111,
     "metadata": {},
     "output_type": "execute_result"
    }
   ],
   "source": [
    "d"
   ]
  },
  {
   "cell_type": "code",
   "execution_count": 112,
   "id": "5e14119a",
   "metadata": {},
   "outputs": [
    {
     "data": {
      "text/plain": [
       "('banna', 20)"
      ]
     },
     "execution_count": 112,
     "metadata": {},
     "output_type": "execute_result"
    }
   ],
   "source": [
    "d.popitem()         # it removes the last item"
   ]
  },
  {
   "cell_type": "code",
   "execution_count": 113,
   "id": "7f6edc8d",
   "metadata": {},
   "outputs": [],
   "source": [
    "d.update({\"kiwi\":100,\"dragon\":300})"
   ]
  },
  {
   "cell_type": "code",
   "execution_count": 114,
   "id": "f752e92f",
   "metadata": {},
   "outputs": [
    {
     "data": {
      "text/plain": [
       "{'apple': 45, 'grapes': 30, 'kiwi': 100, 'dragon': 300}"
      ]
     },
     "execution_count": 114,
     "metadata": {},
     "output_type": "execute_result"
    }
   ],
   "source": [
    "d"
   ]
  },
  {
   "cell_type": "code",
   "execution_count": 115,
   "id": "be0789fe",
   "metadata": {},
   "outputs": [
    {
     "data": {
      "text/plain": [
       "{'ds': 9000, 'da': 9000, 'sql': 9000, 'ml': 9000}"
      ]
     },
     "execution_count": 115,
     "metadata": {},
     "output_type": "execute_result"
    }
   ],
   "source": [
    "dict.fromkeys([\"ds\",\"da\",\"sql\",\"ml\"],9000)"
   ]
  },
  {
   "cell_type": "code",
   "execution_count": null,
   "id": "d4726555",
   "metadata": {},
   "outputs": [],
   "source": []
  }
 ],
 "metadata": {
  "kernelspec": {
   "display_name": "Python 3 (ipykernel)",
   "language": "python",
   "name": "python3"
  },
  "language_info": {
   "codemirror_mode": {
    "name": "ipython",
    "version": 3
   },
   "file_extension": ".py",
   "mimetype": "text/x-python",
   "name": "python",
   "nbconvert_exporter": "python",
   "pygments_lexer": "ipython3",
   "version": "3.11.5"
  }
 },
 "nbformat": 4,
 "nbformat_minor": 5
}
