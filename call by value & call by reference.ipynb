{
 "cells": [
  {
   "cell_type": "markdown",
   "id": "a1fc8029",
   "metadata": {},
   "source": [
    "# call by value"
   ]
  },
  {
   "cell_type": "markdown",
   "id": "03895921",
   "metadata": {},
   "source": [
    "* Call by value\" is a parameter-passing mechanism where the value of the actual argument is copied into the formal parameter of the function.\n",
    "* Any changes made to the parameter inside the function do not affect the original value outside the function.\n",
    "* In languages like Python, the term \"call by value\" is often used colloquially to describe the behavior with immutable objects, even though the underlying mechanism is more accurately described as \"call by object reference\" or \"call by sharing.\"\n",
    "* Here the value of parameters will be copied to formal parameters store values in differnt locations.\n",
    "\n",
    "* Actual parameters - The parameters passed to a function\n",
    "* Formal parameters - The parameters received by a function"
   ]
  },
  {
   "cell_type": "code",
   "execution_count": 1,
   "id": "8074ad4f",
   "metadata": {},
   "outputs": [
    {
     "name": "stdout",
     "output_type": "stream",
     "text": [
      "Inside Function: banana\n",
      "Outside Function: mango\n"
     ]
    }
   ],
   "source": [
    "string = \"mango\"\n",
    " \n",
    " \n",
    "def test(string):\n",
    "     \n",
    "    string = \"banana\"\n",
    "    print(\"Inside Function:\", string)\n",
    "     \n",
    "test(string)\n",
    "print(\"Outside Function:\", string)"
   ]
  },
  {
   "cell_type": "markdown",
   "id": "83423d35",
   "metadata": {},
   "source": [
    "# Call by reference"
   ]
  },
  {
   "cell_type": "markdown",
   "id": "42654a58",
   "metadata": {},
   "source": [
    "\n",
    "* Arguments are passed by assignment in Python. The assignment creates references to objects.\n",
    "* Hence, Immutable objects passed as arguments are referred as in Call by Value and Mutable objects, when passed as arguments are referred to as Call by Reference.\n",
    "* While calling the function we pass values and called as call by values.\n",
    "* At the time of calling instead of passing the values we pass the address of the variables that means the location of variables so called call by reference."
   ]
  },
  {
   "cell_type": "code",
   "execution_count": 2,
   "id": "2c1a962a",
   "metadata": {},
   "outputs": [],
   "source": [
    "x = [1,2,3]\n",
    "def foo():\n",
    "    x.append(4)\n",
    "    print(x)"
   ]
  },
  {
   "cell_type": "code",
   "execution_count": 3,
   "id": "43fbed95",
   "metadata": {},
   "outputs": [
    {
     "name": "stdout",
     "output_type": "stream",
     "text": [
      "[1, 2, 3, 4]\n"
     ]
    }
   ],
   "source": [
    "foo()"
   ]
  },
  {
   "cell_type": "markdown",
   "id": "b9b7c937",
   "metadata": {},
   "source": [
    "# Difference between call by value & call by reference"
   ]
  },
  {
   "cell_type": "markdown",
   "id": "d2632bf3",
   "metadata": {},
   "source": [
    "\n",
    "* In call by value, a parameter acts within the function as a new local variable initialized to the value of the argument (a local (isolated) copy of the argument).\n",
    "* In call by reference, the argument variable supplied by the caller can be affected by actions within the called function.\n"
   ]
  },
  {
   "cell_type": "code",
   "execution_count": null,
   "id": "1c461bbd",
   "metadata": {},
   "outputs": [],
   "source": []
  }
 ],
 "metadata": {
  "kernelspec": {
   "display_name": "Python 3 (ipykernel)",
   "language": "python",
   "name": "python3"
  },
  "language_info": {
   "codemirror_mode": {
    "name": "ipython",
    "version": 3
   },
   "file_extension": ".py",
   "mimetype": "text/x-python",
   "name": "python",
   "nbconvert_exporter": "python",
   "pygments_lexer": "ipython3",
   "version": "3.11.5"
  }
 },
 "nbformat": 4,
 "nbformat_minor": 5
}
