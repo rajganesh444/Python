{
 "cells": [
  {
   "cell_type": "markdown",
   "id": "579a7522",
   "metadata": {},
   "source": [
    "# Lambda "
   ]
  },
  {
   "cell_type": "markdown",
   "id": "4a1a73d3",
   "metadata": {},
   "source": [
    "* these functions are called as anonymous function\n",
    "\n",
    "* these are defined in a single line\n",
    "\n",
    "* syntax for lambda function\n",
    "    \n",
    "    * lambda var/s:<statement/s using these var/s>\n",
    "* these func by default will return a value,no need to write a return statement\n",
    "* there is no cap on no of var one use to define a lambda func"
   ]
  },
  {
   "cell_type": "code",
   "execution_count": 7,
   "id": "31a65d99",
   "metadata": {},
   "outputs": [
    {
     "name": "stdout",
     "output_type": "stream",
     "text": [
      "15\n"
     ]
    }
   ],
   "source": [
    "x = lambda a : a + 10\n",
    "print(x(5))"
   ]
  },
  {
   "cell_type": "code",
   "execution_count": 8,
   "id": "be9aff87",
   "metadata": {},
   "outputs": [
    {
     "data": {
      "text/plain": [
       "8"
      ]
     },
     "execution_count": 8,
     "metadata": {},
     "output_type": "execute_result"
    }
   ],
   "source": [
    "(lambda x,y : x**y)(2,3)"
   ]
  },
  {
   "cell_type": "code",
   "execution_count": 9,
   "id": "ce6ac4b5",
   "metadata": {},
   "outputs": [
    {
     "data": {
      "text/plain": [
       "2"
      ]
     },
     "execution_count": 9,
     "metadata": {},
     "output_type": "execute_result"
    }
   ],
   "source": [
    "(lambda a,b : a-b)(5,3)"
   ]
  },
  {
   "cell_type": "code",
   "execution_count": 10,
   "id": "045963bb",
   "metadata": {},
   "outputs": [
    {
     "data": {
      "text/plain": [
       "'odd'"
      ]
     },
     "execution_count": 10,
     "metadata": {},
     "output_type": "execute_result"
    }
   ],
   "source": [
    "x = 5\n",
    "\"even\" if x%2==0 else \"odd\""
   ]
  },
  {
   "cell_type": "code",
   "execution_count": 12,
   "id": "7835089d",
   "metadata": {},
   "outputs": [
    {
     "data": {
      "text/plain": [
       "'even'"
      ]
     },
     "execution_count": 12,
     "metadata": {},
     "output_type": "execute_result"
    }
   ],
   "source": [
    "(lambda x : \"even\" if x%2==0 else \"odd\")(6) "
   ]
  },
  {
   "cell_type": "code",
   "execution_count": 6,
   "id": "989eae84",
   "metadata": {},
   "outputs": [
    {
     "data": {
      "text/plain": [
       "([10, 12, 14, 16, 18], [11, 13, 15, 17, 19])"
      ]
     },
     "execution_count": 6,
     "metadata": {},
     "output_type": "execute_result"
    }
   ],
   "source": [
    "(lambda x,y:([ele for ele in range(x,y) if ele%2==0],[ele for ele in range (x,y) if ele%2!=0])) (10,20)"
   ]
  },
  {
   "cell_type": "code",
   "execution_count": null,
   "id": "6e1364a2",
   "metadata": {},
   "outputs": [],
   "source": []
  },
  {
   "cell_type": "markdown",
   "id": "edc5edfc",
   "metadata": {},
   "source": [
    "# map,filter,Reduce"
   ]
  },
  {
   "cell_type": "markdown",
   "id": "948c50fa",
   "metadata": {},
   "source": [
    "### map function"
   ]
  },
  {
   "cell_type": "markdown",
   "id": "7c5d0f7c",
   "metadata": {},
   "source": [
    "* map in Python is a function that works as an iterator to return a result after applying a function to every item of an iterable (tuple, lists, etc.).\n",
    "* It is used when you want to apply a single transformation function to all the iterable elements. The iterable and function are passed as arguments to the map in Python"
   ]
  },
  {
   "cell_type": "code",
   "execution_count": 22,
   "id": "9d1559f0",
   "metadata": {},
   "outputs": [
    {
     "data": {
      "text/plain": [
       "<map at 0x2af1178a650>"
      ]
     },
     "execution_count": 22,
     "metadata": {},
     "output_type": "execute_result"
    }
   ],
   "source": [
    "z =map(lambda x:x**3,[1,2,3])\n",
    "z"
   ]
  },
  {
   "cell_type": "code",
   "execution_count": 23,
   "id": "8140fe33",
   "metadata": {},
   "outputs": [
    {
     "data": {
      "text/plain": [
       "[1, 8, 27]"
      ]
     },
     "execution_count": 23,
     "metadata": {},
     "output_type": "execute_result"
    }
   ],
   "source": [
    "list(z)"
   ]
  },
  {
   "cell_type": "code",
   "execution_count": 26,
   "id": "7eb77db6",
   "metadata": {},
   "outputs": [
    {
     "data": {
      "text/plain": [
       "[97, 98, 99]"
      ]
     },
     "execution_count": 26,
     "metadata": {},
     "output_type": "execute_result"
    }
   ],
   "source": [
    "z=map(ord,\"abc\")\n",
    "list(z)"
   ]
  },
  {
   "cell_type": "code",
   "execution_count": 29,
   "id": "c5e6ff47",
   "metadata": {},
   "outputs": [
    {
     "data": {
      "text/plain": [
       "[11, 22, 33]"
      ]
     },
     "execution_count": 29,
     "metadata": {},
     "output_type": "execute_result"
    }
   ],
   "source": [
    "list(map(lambda x,y: x+y,[1,2,3],[10,20,30]))"
   ]
  },
  {
   "cell_type": "code",
   "execution_count": 34,
   "id": "04142171",
   "metadata": {},
   "outputs": [
    {
     "data": {
      "text/plain": [
       "[1, 4, 81]"
      ]
     },
     "execution_count": 34,
     "metadata": {},
     "output_type": "execute_result"
    }
   ],
   "source": [
    "list(map(lambda x,y: x**y,[1,2,3],[10,2,4]))"
   ]
  },
  {
   "cell_type": "code",
   "execution_count": 32,
   "id": "576347da",
   "metadata": {},
   "outputs": [
    {
     "data": {
      "text/plain": [
       "[1, 4, 27]"
      ]
     },
     "execution_count": 32,
     "metadata": {},
     "output_type": "execute_result"
    }
   ],
   "source": [
    "list(map(lambda x: x**x,[1,2,3]))"
   ]
  },
  {
   "cell_type": "markdown",
   "id": "1be54ed4",
   "metadata": {},
   "source": [
    "# Filter"
   ]
  },
  {
   "cell_type": "code",
   "execution_count": 44,
   "id": "ebc52f94",
   "metadata": {},
   "outputs": [
    {
     "data": {
      "text/plain": [
       "[2, 4, 6]"
      ]
     },
     "execution_count": 44,
     "metadata": {},
     "output_type": "execute_result"
    }
   ],
   "source": [
    "list(filter(lambda x: True if x % 2 == 0 else False,[1,2,3,4,5,6]))"
   ]
  },
  {
   "cell_type": "code",
   "execution_count": 46,
   "id": "418e014d",
   "metadata": {},
   "outputs": [
    {
     "data": {
      "text/plain": [
       "['a', 'e']"
      ]
     },
     "execution_count": 46,
     "metadata": {},
     "output_type": "execute_result"
    }
   ],
   "source": [
    "list(filter(lambda x: True if x in \"aeiou\" else False,\"ganesh\"))"
   ]
  },
  {
   "cell_type": "code",
   "execution_count": 47,
   "id": "b868faa7",
   "metadata": {},
   "outputs": [
    {
     "data": {
      "text/plain": [
       "['g', 'a', 'n', 'e', 's', 'h', '1', '2', '3']"
      ]
     },
     "execution_count": 47,
     "metadata": {},
     "output_type": "execute_result"
    }
   ],
   "source": [
    "list(filter(lambda x: True if x.isalnum() else False,\"ganesh$@123\"))"
   ]
  },
  {
   "cell_type": "code",
   "execution_count": null,
   "id": "b36e88ba",
   "metadata": {},
   "outputs": [],
   "source": [
    "list(filter(lambda x: True if x.isalnum() is  else False,\"ganesh$@123\"))"
   ]
  },
  {
   "cell_type": "markdown",
   "id": "64dfd821",
   "metadata": {},
   "source": [
    "## REDUCE function"
   ]
  },
  {
   "cell_type": "markdown",
   "id": "e00c68f6",
   "metadata": {},
   "source": [
    "* The reduce() function in Python takes in a function and a list as an argument. The function is called with a lambda function and an iterable and a new reduced result is returned.\n",
    "* This performs a repetitive operation over the pairs of the iterable.\n",
    "* Syntax-\n",
    "* reduce(function , list)\n",
    "* This function is defined in “functools” module.\n",
    "* import functools"
   ]
  },
  {
   "cell_type": "code",
   "execution_count": 1,
   "id": "bd5b4600",
   "metadata": {},
   "outputs": [],
   "source": [
    "import functools"
   ]
  },
  {
   "cell_type": "code",
   "execution_count": 2,
   "id": "98bd2565",
   "metadata": {},
   "outputs": [
    {
     "data": {
      "text/plain": [
       "45"
      ]
     },
     "execution_count": 2,
     "metadata": {},
     "output_type": "execute_result"
    }
   ],
   "source": [
    "functools.reduce(lambda x,y:x+y,[10,15,20]) # add first two elements then goes to another element\n"
   ]
  },
  {
   "cell_type": "code",
   "execution_count": 3,
   "id": "2d7da0e3",
   "metadata": {},
   "outputs": [
    {
     "data": {
      "text/plain": [
       "720"
      ]
     },
     "execution_count": 3,
     "metadata": {},
     "output_type": "execute_result"
    }
   ],
   "source": [
    "functools.reduce(lambda x,y:x*y,[1,2,3,4,5,6]) # multiply first two elements then goes to another element"
   ]
  },
  {
   "cell_type": "code",
   "execution_count": null,
   "id": "50d12539",
   "metadata": {},
   "outputs": [],
   "source": []
  }
 ],
 "metadata": {
  "kernelspec": {
   "display_name": "Python 3 (ipykernel)",
   "language": "python",
   "name": "python3"
  },
  "language_info": {
   "codemirror_mode": {
    "name": "ipython",
    "version": 3
   },
   "file_extension": ".py",
   "mimetype": "text/x-python",
   "name": "python",
   "nbconvert_exporter": "python",
   "pygments_lexer": "ipython3",
   "version": "3.11.5"
  }
 },
 "nbformat": 4,
 "nbformat_minor": 5
}
