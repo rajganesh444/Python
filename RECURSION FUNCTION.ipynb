{
 "cells": [
  {
   "cell_type": "markdown",
   "id": "572a30f8",
   "metadata": {},
   "source": [
    "# recursion"
   ]
  },
  {
   "cell_type": "markdown",
   "id": "658dbaa5",
   "metadata": {},
   "source": [
    "* Recursion means which keep 'repeating'.\n",
    "* A function which calls a function on itself is called \"Recursion function\".\n",
    "* \"Base condition\" is the most important in Recursion function."
   ]
  },
  {
   "cell_type": "code",
   "execution_count": 1,
   "id": "43a68795",
   "metadata": {},
   "outputs": [],
   "source": [
    "def foofact(n):\n",
    "\n",
    "    r = 1\n",
    "    for i in range(1,n+1):\n",
    "        r*=i\n",
    "    return r\n"
   ]
  },
  {
   "cell_type": "code",
   "execution_count": 2,
   "id": "cf56169c",
   "metadata": {},
   "outputs": [
    {
     "data": {
      "text/plain": [
       "120"
      ]
     },
     "execution_count": 2,
     "metadata": {},
     "output_type": "execute_result"
    }
   ],
   "source": [
    "foofact(5)"
   ]
  },
  {
   "cell_type": "code",
   "execution_count": 3,
   "id": "11e976cc",
   "metadata": {},
   "outputs": [],
   "source": [
    "def fooRecfact(n):\n",
    "    \n",
    "    if n == 1:\n",
    "        return 1\n",
    "    else:\n",
    "        return n * fooRecfact(n-1)\n"
   ]
  },
  {
   "cell_type": "code",
   "execution_count": 5,
   "id": "d10fdf3a",
   "metadata": {},
   "outputs": [
    {
     "data": {
      "text/plain": [
       "120"
      ]
     },
     "execution_count": 5,
     "metadata": {},
     "output_type": "execute_result"
    }
   ],
   "source": [
    "fooRecfact(5)"
   ]
  },
  {
   "cell_type": "markdown",
   "id": "6a717a32",
   "metadata": {},
   "source": [
    "# stack memeory"
   ]
  },
  {
   "cell_type": "markdown",
   "id": "eb3fb443",
   "metadata": {},
   "source": [
    "* The stack is a region of memory used for storing local variables and function call information. It operates on a Last-In-First-Out (LIFO) basis, where the most recently added item is the first to be removed.\n",
    "\n",
    "* The stack is a region of memory used for storing local variables and function call information. It operates on a Last-In-First-Out (LIFO) basis, where the most recently added item is the first to be removed"
   ]
  },
  {
   "cell_type": "markdown",
   "id": "ea9e2ae8",
   "metadata": {},
   "source": [
    "# fib series"
   ]
  },
  {
   "cell_type": "markdown",
   "id": "9418e2d7",
   "metadata": {},
   "source": [
    "1. A Fibonacci sequence is the integer sequence of 0, 1, 1, 2, 3, 5, 8....\n",
    "\n",
    "2. The first two terms are 0 and 1. All other terms are obtained by adding the preceding two terms. This means to say the nth term is the sum of (n-1)th and (n-2)th term.\n",
    "\n",
    "* The values start with 0,1\n",
    "* The third values is adding the first two values\n",
    "0,1,1,2,3,5,8,13,.....etc"
   ]
  },
  {
   "cell_type": "code",
   "execution_count": 6,
   "id": "94765a18",
   "metadata": {},
   "outputs": [],
   "source": [
    "def foorecfib(n):\n",
    "    if n <= 1:\n",
    "        return n\n",
    "    else:\n",
    "        return foorecfib(n-1) + foorecfib(n-2)\n"
   ]
  },
  {
   "cell_type": "code",
   "execution_count": 7,
   "id": "f7954246",
   "metadata": {},
   "outputs": [
    {
     "data": {
      "text/plain": [
       "2"
      ]
     },
     "execution_count": 7,
     "metadata": {},
     "output_type": "execute_result"
    }
   ],
   "source": [
    "foorecfib(3)"
   ]
  },
  {
   "cell_type": "code",
   "execution_count": 8,
   "id": "dee6a523",
   "metadata": {},
   "outputs": [
    {
     "name": "stdout",
     "output_type": "stream",
     "text": [
      "0,1,1,2,3,"
     ]
    }
   ],
   "source": [
    "for i in range(5):\n",
    "    print(foorecfib(i),end =',')"
   ]
  },
  {
   "cell_type": "code",
   "execution_count": 9,
   "id": "759b2650",
   "metadata": {},
   "outputs": [],
   "source": [
    "def foorecfib(n):\n",
    "    if n == 0:\n",
    "        return 0\n",
    "    elif n == 1:\n",
    "        return 1\n",
    "    else:\n",
    "        return foorecfib(n-1) + foorecfib(n-2)\n"
   ]
  },
  {
   "cell_type": "code",
   "execution_count": 10,
   "id": "30453408",
   "metadata": {},
   "outputs": [
    {
     "data": {
      "text/plain": [
       "8"
      ]
     },
     "execution_count": 10,
     "metadata": {},
     "output_type": "execute_result"
    }
   ],
   "source": [
    "foorecfib(6)"
   ]
  },
  {
   "cell_type": "markdown",
   "id": "ada5e4d5",
   "metadata": {},
   "source": [
    "# Args"
   ]
  },
  {
   "cell_type": "markdown",
   "id": "c39aa762",
   "metadata": {},
   "source": [
    "* Args allows us to pass a variable number of non-keyword arguments to a Python function.\n",
    "\n",
    "  In the function, we should use an asterisk ( * ) before the parameter name to pass a variable number of arguments.\n",
    "\n",
    "\n",
    "\n",
    "\n",
    "* args (Non-Keyword Arguments)\n",
    "* The special syntax *args in function definitions in Python is used to pass a variable number of arguments to a function.\n",
    "* It is used to pass a non-keyworded, variable-length argument list.\n",
    "* What *args allows you to do is take in more arguments than the number of formal arguments that you previously defined.\n",
    "* With *args, any number of extra arguments can be tacked on to your current formal parameters (including zero extra arguments."
   ]
  },
  {
   "cell_type": "code",
   "execution_count": 11,
   "id": "94dac24e",
   "metadata": {},
   "outputs": [],
   "source": [
    "def foo(a,b,c = 0,*args, **kwargs):\n",
    "    r = a+b+c\n",
    "    for arg in args:\n",
    "        r+=arg\n",
    "    return r"
   ]
  },
  {
   "cell_type": "code",
   "execution_count": 12,
   "id": "89f824b2",
   "metadata": {},
   "outputs": [
    {
     "data": {
      "text/plain": [
       "10"
      ]
     },
     "execution_count": 12,
     "metadata": {},
     "output_type": "execute_result"
    }
   ],
   "source": [
    "foo(1,2,3,4)"
   ]
  },
  {
   "cell_type": "code",
   "execution_count": 13,
   "id": "801a6b36",
   "metadata": {},
   "outputs": [],
   "source": [
    "def foo(a,b,c = 0,*args, **kwargs):\n",
    "    r = a+b+c\n",
    "    for arg in args:\n",
    "        r+=arg\n",
    "    return r\n"
   ]
  },
  {
   "cell_type": "code",
   "execution_count": 14,
   "id": "51d3b1a7",
   "metadata": {},
   "outputs": [
    {
     "data": {
      "text/plain": [
       "21"
      ]
     },
     "execution_count": 14,
     "metadata": {},
     "output_type": "execute_result"
    }
   ],
   "source": [
    "foo(1,2,3,*(4,5,6))"
   ]
  },
  {
   "cell_type": "markdown",
   "id": "3df281b0",
   "metadata": {},
   "source": [
    "# kwargs"
   ]
  },
  {
   "cell_type": "markdown",
   "id": "0a12903e",
   "metadata": {},
   "source": [
    "* The special syntax **kwargs in function definitions in Python is used to pass a keyworded, variable-length argument list.\n",
    "\n",
    "* We use the name kwargs with the double star.\n",
    "\n",
    "* The reason is that the double star allows us to pass through keyword arguments (and any number of them).\n",
    "\n",
    "* A keyword argument is where you provide a name to the variable as you pass it into the function.\n",
    "\n",
    "* One can think of the kwargs as being a dictionary that maps each keyword to the value that we pass alongside it.\n",
    "\n",
    "* That is why when we iterate over the kwargs there doesn’t seem to be any order in which they were printed out.\n",
    "\n"
   ]
  },
  {
   "cell_type": "code",
   "execution_count": 15,
   "id": "600d83e3",
   "metadata": {},
   "outputs": [],
   "source": [
    "def foo(a, b , c = 0, *args,**kwargs):\n",
    "    r = a+b+c\n",
    "    for arg in args:\n",
    "        r+=arg\n",
    "        \n",
    "    for kwarg in kwargs:\n",
    "        print(kwargs[kwarg])\n",
    "    return r"
   ]
  },
  {
   "cell_type": "code",
   "execution_count": 16,
   "id": "135abf82",
   "metadata": {},
   "outputs": [
    {
     "name": "stdout",
     "output_type": "stream",
     "text": [
      "[1, 2, 3]\n"
     ]
    },
    {
     "data": {
      "text/plain": [
       "21"
      ]
     },
     "execution_count": 16,
     "metadata": {},
     "output_type": "execute_result"
    }
   ],
   "source": [
    "foo(1,2,3, *(4,5,6),**{'marks':[1,2,3]})"
   ]
  },
  {
   "cell_type": "code",
   "execution_count": 19,
   "id": "877a29b3",
   "metadata": {},
   "outputs": [],
   "source": [
    "def fooStuMarks(**kwargs):\n",
    "    for kwarg in kwargs:\n",
    "        print(f'Total Marks scored by {kwarg} is {sum(kwargs[kwarg])}')\n"
   ]
  },
  {
   "cell_type": "code",
   "execution_count": 21,
   "id": "6010857e",
   "metadata": {},
   "outputs": [
    {
     "name": "stdout",
     "output_type": "stream",
     "text": [
      "Total Marks scored by tonny is 60\n",
      "Total Marks scored by rolex is 90\n",
      "Total Marks scored by jack is 60\n"
     ]
    }
   ],
   "source": [
    "fooStuMarks(**{'tonny':(10,20,30),\n",
    "               'rolex':{80,10,0},\n",
    "               'jack':[30,20,10]})"
   ]
  },
  {
   "cell_type": "code",
   "execution_count": null,
   "id": "51e16570",
   "metadata": {},
   "outputs": [],
   "source": []
  },
  {
   "cell_type": "code",
   "execution_count": null,
   "id": "bbd2d64c",
   "metadata": {},
   "outputs": [],
   "source": []
  },
  {
   "cell_type": "code",
   "execution_count": null,
   "id": "93373717",
   "metadata": {},
   "outputs": [],
   "source": []
  }
 ],
 "metadata": {
  "kernelspec": {
   "display_name": "Python 3 (ipykernel)",
   "language": "python",
   "name": "python3"
  },
  "language_info": {
   "codemirror_mode": {
    "name": "ipython",
    "version": 3
   },
   "file_extension": ".py",
   "mimetype": "text/x-python",
   "name": "python",
   "nbconvert_exporter": "python",
   "pygments_lexer": "ipython3",
   "version": "3.11.5"
  }
 },
 "nbformat": 4,
 "nbformat_minor": 5
}
