{
 "cells": [
  {
   "cell_type": "markdown",
   "id": "ccd5bce5",
   "metadata": {},
   "source": [
    "## strings"
   ]
  },
  {
   "cell_type": "markdown",
   "id": "ce70ab69",
   "metadata": {},
   "source": [
    "   * strings are seq of chars,enclosed in qoutes(single,double,triple-single or triple-doublr qoutes)\n",
    "   \n",
    "   * `tripel- qoutes` are used as multilinr strings, multiline comments and as doc string."
   ]
  },
  {
   "cell_type": "markdown",
   "id": "d7bb9772",
   "metadata": {},
   "source": [
    "### creating a string"
   ]
  },
  {
   "cell_type": "code",
   "execution_count": 2,
   "id": "bf0fd33b",
   "metadata": {},
   "outputs": [
    {
     "name": "stdout",
     "output_type": "stream",
     "text": [
      "this is a string, enclosed in single qoutes/nthis is a string, enclosed in single qoutes/nthis ia a multi-string,\n",
      "enclosed in tripel single qoutes\n"
     ]
    }
   ],
   "source": [
    "s1 = 'this is a string, enclosed in single qoutes'\n",
    "s2 = \"this is a string, enclosed in single qoutes\"\n",
    "s3 = '''this ia a multi-string,\n",
    "enclosed in tripel single qoutes'''\n",
    "print(s1,s2,s3, sep='/n')"
   ]
  },
  {
   "cell_type": "markdown",
   "id": "534adf2b",
   "metadata": {},
   "source": [
    "### Escape char"
   ]
  },
  {
   "cell_type": "code",
   "execution_count": 1,
   "id": "0e7eecb1",
   "metadata": {},
   "outputs": [
    {
     "name": "stdout",
     "output_type": "stream",
     "text": [
      "a\n",
      "b\n",
      "a\tb\n",
      "c\n"
     ]
    }
   ],
   "source": [
    " print('a\\nb') # new line\n",
    " print('a\\tb') #tab/four spaces\n",
    "print('ab\\rc') # moves the cursur to start of the line"
   ]
  },
  {
   "cell_type": "markdown",
   "id": "e86f511c",
   "metadata": {},
   "source": [
    "### Raw-string and Formate-string"
   ]
  },
  {
   "cell_type": "code",
   "execution_count": 1,
   "id": "69c31118",
   "metadata": {},
   "outputs": [
    {
     "name": "stdout",
     "output_type": "stream",
     "text": [
      "c:\u0007bc\n",
      "ewfolder\\j.jpg\n",
      "c:\u0007bc\\newfolder\\j.jpg\n",
      "c:\\abc\\newfolder\\j.jpg\n"
     ]
    }
   ],
   "source": [
    "print('c:\\abc\\newfolder\\j.jpg')\n",
    "print('c:\\abc\\\\newfolder\\\\j.jpg')\n",
    "print(r'c:\\abc\\newfolder\\j.jpg')"
   ]
  },
  {
   "cell_type": "markdown",
   "id": "53472c36",
   "metadata": {},
   "source": [
    "### String can be indexed"
   ]
  },
  {
   "cell_type": "markdown",
   "id": "dbfd7676",
   "metadata": {},
   "source": [
    "  * since strings are a sequencen of chars,and this seq has an order. we can access individgual chars by their index or postion in that seq enclose in [].\n",
    "    \n",
    "         x = 'python'\n",
    "        \n",
    "    string x has a len of 6,(len of sting is equals to the number of chars in that strings)the first index is 0 (indexing in python start with 0)\n",
    "        \n",
    "          * positive indexing\n",
    "            \n",
    "           'puthon'  (len 6) \n",
    "            "
   ]
  },
  {
   "cell_type": "markdown",
   "id": "f690e6b9",
   "metadata": {},
   "source": [
    "## string methods"
   ]
  },
  {
   "cell_type": "markdown",
   "id": "36d37ecd",
   "metadata": {},
   "source": [
    "### find()"
   ]
  },
  {
   "cell_type": "markdown",
   "id": "f4406280",
   "metadata": {},
   "source": [
    "* it gives the index number in the string"
   ]
  },
  {
   "cell_type": "code",
   "execution_count": 3,
   "id": "cc9235f1",
   "metadata": {},
   "outputs": [
    {
     "name": "stdout",
     "output_type": "stream",
     "text": [
      "Help on method_descriptor:\n",
      "\n",
      "find(...)\n",
      "    S.find(sub[, start[, end]]) -> int\n",
      "    \n",
      "    Return the lowest index in S where substring sub is found,\n",
      "    such that sub is contained within S[start:end].  Optional\n",
      "    arguments start and end are interpreted as in slice notation.\n",
      "    \n",
      "    Return -1 on failure.\n",
      "\n"
     ]
    }
   ],
   "source": [
    "help(str.find)"
   ]
  },
  {
   "cell_type": "code",
   "execution_count": 6,
   "id": "b22afd96",
   "metadata": {},
   "outputs": [],
   "source": [
    "name= \"I am data scientist\""
   ]
  },
  {
   "cell_type": "code",
   "execution_count": 7,
   "id": "d0ce2f21",
   "metadata": {},
   "outputs": [
    {
     "data": {
      "text/plain": [
       "2"
      ]
     },
     "execution_count": 7,
     "metadata": {},
     "output_type": "execute_result"
    }
   ],
   "source": [
    "name.find('a')"
   ]
  },
  {
   "cell_type": "code",
   "execution_count": 10,
   "id": "f97324bb",
   "metadata": {
    "scrolled": true
   },
   "outputs": [
    {
     "data": {
      "text/plain": [
       "8"
      ]
     },
     "execution_count": 10,
     "metadata": {},
     "output_type": "execute_result"
    }
   ],
   "source": [
    "name.find('a',7)"
   ]
  },
  {
   "cell_type": "markdown",
   "id": "d428751a",
   "metadata": {},
   "source": [
    "### rfind()"
   ]
  },
  {
   "cell_type": "markdown",
   "id": "311b4bbb",
   "metadata": {},
   "source": [
    "* it gives the right side index number in string"
   ]
  },
  {
   "cell_type": "code",
   "execution_count": 12,
   "id": "0444a0e2",
   "metadata": {},
   "outputs": [
    {
     "name": "stdout",
     "output_type": "stream",
     "text": [
      "Help on method_descriptor:\n",
      "\n",
      "rfind(...)\n",
      "    S.rfind(sub[, start[, end]]) -> int\n",
      "    \n",
      "    Return the highest index in S where substring sub is found,\n",
      "    such that sub is contained within S[start:end].  Optional\n",
      "    arguments start and end are interpreted as in slice notation.\n",
      "    \n",
      "    Return -1 on failure.\n",
      "\n"
     ]
    }
   ],
   "source": [
    "help(str.rfind)"
   ]
  },
  {
   "cell_type": "code",
   "execution_count": 2,
   "id": "90fa5f1f",
   "metadata": {},
   "outputs": [
    {
     "data": {
      "text/plain": [
       "7"
      ]
     },
     "execution_count": 2,
     "metadata": {},
     "output_type": "execute_result"
    }
   ],
   "source": [
    "'malayalam'.rfind('a',2)"
   ]
  },
  {
   "cell_type": "code",
   "execution_count": 9,
   "id": "59afe440",
   "metadata": {},
   "outputs": [
    {
     "data": {
      "text/plain": [
       "3"
      ]
     },
     "execution_count": 9,
     "metadata": {},
     "output_type": "execute_result"
    }
   ],
   "source": [
    "'malayalam'.rfind('a',2,5)"
   ]
  },
  {
   "cell_type": "code",
   "execution_count": 15,
   "id": "0b25128f",
   "metadata": {},
   "outputs": [
    {
     "data": {
      "text/plain": [
       "7"
      ]
     },
     "execution_count": 15,
     "metadata": {},
     "output_type": "execute_result"
    }
   ],
   "source": [
    "'malayalam'.rfind('a',2,8)"
   ]
  },
  {
   "cell_type": "markdown",
   "id": "a53a1876",
   "metadata": {},
   "source": [
    "### count()"
   ]
  },
  {
   "cell_type": "markdown",
   "id": "478e146d",
   "metadata": {},
   "source": [
    "* it gives the frequency occurancy of aparticular vali"
   ]
  },
  {
   "cell_type": "code",
   "execution_count": 13,
   "id": "8a772c69",
   "metadata": {},
   "outputs": [
    {
     "name": "stdout",
     "output_type": "stream",
     "text": [
      "Help on method_descriptor:\n",
      "\n",
      "count(...)\n",
      "    S.count(sub[, start[, end]]) -> int\n",
      "    \n",
      "    Return the number of non-overlapping occurrences of substring sub in\n",
      "    string S[start:end].  Optional arguments start and end are\n",
      "    interpreted as in slice notation.\n",
      "\n"
     ]
    }
   ],
   "source": [
    "help(str.count)"
   ]
  },
  {
   "cell_type": "code",
   "execution_count": 18,
   "id": "c54d003c",
   "metadata": {},
   "outputs": [],
   "source": [
    "M = \"malayalam\""
   ]
  },
  {
   "cell_type": "code",
   "execution_count": 19,
   "id": "2057d537",
   "metadata": {},
   "outputs": [
    {
     "data": {
      "text/plain": [
       "2"
      ]
     },
     "execution_count": 19,
     "metadata": {},
     "output_type": "execute_result"
    }
   ],
   "source": [
    "M.count('m')"
   ]
  },
  {
   "cell_type": "code",
   "execution_count": 22,
   "id": "16efe31b",
   "metadata": {},
   "outputs": [
    {
     "data": {
      "text/plain": [
       "4"
      ]
     },
     "execution_count": 22,
     "metadata": {},
     "output_type": "execute_result"
    }
   ],
   "source": [
    "M.count('a')"
   ]
  },
  {
   "cell_type": "markdown",
   "id": "3ff05a5c",
   "metadata": {},
   "source": [
    "### index()"
   ]
  },
  {
   "cell_type": "markdown",
   "id": "bd6b550e",
   "metadata": {},
   "source": [
    "* it gives the index number in the string"
   ]
  },
  {
   "cell_type": "code",
   "execution_count": 25,
   "id": "b27c4a28",
   "metadata": {},
   "outputs": [
    {
     "name": "stdout",
     "output_type": "stream",
     "text": [
      "Help on method_descriptor:\n",
      "\n",
      "index(...)\n",
      "    S.index(sub[, start[, end]]) -> int\n",
      "    \n",
      "    Return the lowest index in S where substring sub is found,\n",
      "    such that sub is contained within S[start:end].  Optional\n",
      "    arguments start and end are interpreted as in slice notation.\n",
      "    \n",
      "    Raises ValueError when the substring is not found.\n",
      "\n"
     ]
    }
   ],
   "source": [
    "help(str.index)"
   ]
  },
  {
   "cell_type": "code",
   "execution_count": 27,
   "id": "b51ffc94",
   "metadata": {},
   "outputs": [],
   "source": [
    "m = \"malayalam\""
   ]
  },
  {
   "cell_type": "code",
   "execution_count": 28,
   "id": "d71c772c",
   "metadata": {},
   "outputs": [
    {
     "data": {
      "text/plain": [
       "0"
      ]
     },
     "execution_count": 28,
     "metadata": {},
     "output_type": "execute_result"
    }
   ],
   "source": [
    "m.index('m')"
   ]
  },
  {
   "cell_type": "code",
   "execution_count": 29,
   "id": "8b5d1292",
   "metadata": {},
   "outputs": [
    {
     "data": {
      "text/plain": [
       "4"
      ]
     },
     "execution_count": 29,
     "metadata": {},
     "output_type": "execute_result"
    }
   ],
   "source": [
    "m.index ('y')"
   ]
  },
  {
   "cell_type": "code",
   "execution_count": 14,
   "id": "31866552",
   "metadata": {},
   "outputs": [
    {
     "data": {
      "text/plain": [
       "(1, 4)"
      ]
     },
     "execution_count": 14,
     "metadata": {},
     "output_type": "execute_result"
    }
   ],
   "source": [
    "m.find('a'),m.index('y')"
   ]
  },
  {
   "cell_type": "code",
   "execution_count": 30,
   "id": "8baca0b3",
   "metadata": {},
   "outputs": [
    {
     "data": {
      "text/plain": [
       "-1"
      ]
     },
     "execution_count": 30,
     "metadata": {},
     "output_type": "execute_result"
    }
   ],
   "source": [
    "m.find('z')\n",
    "m.find('z')         # uncomment to see the error"
   ]
  },
  {
   "cell_type": "markdown",
   "id": "78018ab5",
   "metadata": {},
   "source": [
    "### rindex()"
   ]
  },
  {
   "cell_type": "markdown",
   "id": "091f5a4e",
   "metadata": {},
   "source": [
    "* it gives the rigth side index number in the string"
   ]
  },
  {
   "cell_type": "code",
   "execution_count": 31,
   "id": "91db6a3a",
   "metadata": {},
   "outputs": [
    {
     "name": "stdout",
     "output_type": "stream",
     "text": [
      "Help on method_descriptor:\n",
      "\n",
      "rindex(...)\n",
      "    S.rindex(sub[, start[, end]]) -> int\n",
      "    \n",
      "    Return the highest index in S where substring sub is found,\n",
      "    such that sub is contained within S[start:end].  Optional\n",
      "    arguments start and end are interpreted as in slice notation.\n",
      "    \n",
      "    Raises ValueError when the substring is not found.\n",
      "\n"
     ]
    }
   ],
   "source": [
    "help(str.rindex)"
   ]
  },
  {
   "cell_type": "code",
   "execution_count": 32,
   "id": "cdb64aa9",
   "metadata": {},
   "outputs": [],
   "source": [
    "m = \"malayalam\""
   ]
  },
  {
   "cell_type": "code",
   "execution_count": 33,
   "id": "36a971c1",
   "metadata": {},
   "outputs": [
    {
     "data": {
      "text/plain": [
       "7"
      ]
     },
     "execution_count": 33,
     "metadata": {},
     "output_type": "execute_result"
    }
   ],
   "source": [
    "m.rindex('a')"
   ]
  },
  {
   "cell_type": "markdown",
   "id": "c4ce2c6e",
   "metadata": {},
   "source": [
    "### replace()"
   ]
  },
  {
   "cell_type": "code",
   "execution_count": 15,
   "id": "d73c38e3",
   "metadata": {},
   "outputs": [
    {
     "name": "stdout",
     "output_type": "stream",
     "text": [
      "Help on method_descriptor:\n",
      "\n",
      "replace(self, old, new, count=-1, /)\n",
      "    Return a copy with all occurrences of substring old replaced by new.\n",
      "    \n",
      "      count\n",
      "        Maximum number of occurrences to replace.\n",
      "        -1 (the default value) means replace all occurrences.\n",
      "    \n",
      "    If the optional argument count is given, only the first count occurrences are\n",
      "    replaced.\n",
      "\n"
     ]
    }
   ],
   "source": [
    "help(str.replace)"
   ]
  },
  {
   "cell_type": "code",
   "execution_count": 18,
   "id": "1caa6d7b",
   "metadata": {},
   "outputs": [
    {
     "data": {
      "text/plain": [
       "'mAlAyAlAm'"
      ]
     },
     "execution_count": 18,
     "metadata": {},
     "output_type": "execute_result"
    }
   ],
   "source": [
    "m.replace('a','A')"
   ]
  },
  {
   "cell_type": "code",
   "execution_count": 19,
   "id": "a933ab96",
   "metadata": {},
   "outputs": [
    {
     "data": {
      "text/plain": [
       "'mAlAyAlAm'"
      ]
     },
     "execution_count": 19,
     "metadata": {},
     "output_type": "execute_result"
    }
   ],
   "source": [
    "m.replace('a','A')"
   ]
  },
  {
   "cell_type": "markdown",
   "id": "4cf1346d",
   "metadata": {},
   "source": [
    "#### Split()"
   ]
  },
  {
   "cell_type": "code",
   "execution_count": 20,
   "id": "d3d47f74",
   "metadata": {},
   "outputs": [
    {
     "name": "stdout",
     "output_type": "stream",
     "text": [
      "Help on method_descriptor:\n",
      "\n",
      "split(self, /, sep=None, maxsplit=-1)\n",
      "    Return a list of the substrings in the string, using sep as the separator string.\n",
      "    \n",
      "      sep\n",
      "        The separator used to split the string.\n",
      "    \n",
      "        When set to None (the default value), will split on any whitespace\n",
      "        character (including \\\\n \\\\r \\\\t \\\\f and spaces) and will discard\n",
      "        empty strings from the result.\n",
      "      maxsplit\n",
      "        Maximum number of splits (starting from the left).\n",
      "        -1 (the default value) means no limit.\n",
      "    \n",
      "    Note, str.split() is mainly useful for data that has been intentionally\n",
      "    delimited.  With natural text that includes punctuation, consider using\n",
      "    the regular expression module.\n",
      "\n"
     ]
    }
   ],
   "source": [
    "help(str.split)"
   ]
  },
  {
   "cell_type": "code",
   "execution_count": 23,
   "id": "2128409e",
   "metadata": {},
   "outputs": [],
   "source": [
    "name = \"I am data scientist\""
   ]
  },
  {
   "cell_type": "code",
   "execution_count": 25,
   "id": "493acb47",
   "metadata": {},
   "outputs": [
    {
     "data": {
      "text/plain": [
       "['I', 'am', 'data', 'scientist']"
      ]
     },
     "execution_count": 25,
     "metadata": {},
     "output_type": "execute_result"
    }
   ],
   "source": [
    "name.split()"
   ]
  },
  {
   "cell_type": "code",
   "execution_count": 26,
   "id": "14c1bc87",
   "metadata": {},
   "outputs": [
    {
     "data": {
      "text/plain": [
       "['I', 'am', 'data scientist']"
      ]
     },
     "execution_count": 26,
     "metadata": {},
     "output_type": "execute_result"
    }
   ],
   "source": [
    "name.split(maxsplit = 2)"
   ]
  },
  {
   "cell_type": "markdown",
   "id": "3b327907",
   "metadata": {},
   "source": [
    "### rsplit()"
   ]
  },
  {
   "cell_type": "markdown",
   "id": "6313b7b8",
   "metadata": {},
   "source": [
    "* it split the right side words"
   ]
  },
  {
   "cell_type": "code",
   "execution_count": 34,
   "id": "c5249bed",
   "metadata": {},
   "outputs": [
    {
     "name": "stdout",
     "output_type": "stream",
     "text": [
      "Help on method_descriptor:\n",
      "\n",
      "rsplit(self, /, sep=None, maxsplit=-1)\n",
      "    Return a list of the substrings in the string, using sep as the separator string.\n",
      "    \n",
      "      sep\n",
      "        The separator used to split the string.\n",
      "    \n",
      "        When set to None (the default value), will split on any whitespace\n",
      "        character (including \\\\n \\\\r \\\\t \\\\f and spaces) and will discard\n",
      "        empty strings from the result.\n",
      "      maxsplit\n",
      "        Maximum number of splits (starting from the left).\n",
      "        -1 (the default value) means no limit.\n",
      "    \n",
      "    Splitting starts at the end of the string and works to the front.\n",
      "\n"
     ]
    }
   ],
   "source": [
    "help(str.rsplit)"
   ]
  },
  {
   "cell_type": "code",
   "execution_count": 35,
   "id": "9a9e04c0",
   "metadata": {},
   "outputs": [],
   "source": [
    "name = \"i am data scientist\""
   ]
  },
  {
   "cell_type": "code",
   "execution_count": 36,
   "id": "70dd3628",
   "metadata": {},
   "outputs": [
    {
     "data": {
      "text/plain": [
       "['i', 'am', 'data', 'scientist']"
      ]
     },
     "execution_count": 36,
     "metadata": {},
     "output_type": "execute_result"
    }
   ],
   "source": [
    "name.rsplit()"
   ]
  },
  {
   "cell_type": "code",
   "execution_count": 37,
   "id": "500b83eb",
   "metadata": {},
   "outputs": [
    {
     "data": {
      "text/plain": [
       "['i am', 'data', 'scientist']"
      ]
     },
     "execution_count": 37,
     "metadata": {},
     "output_type": "execute_result"
    }
   ],
   "source": [
    "name.rsplit(' ',2)"
   ]
  },
  {
   "cell_type": "code",
   "execution_count": 38,
   "id": "249245b4",
   "metadata": {},
   "outputs": [
    {
     "data": {
      "text/plain": [
       "['i am data', 'scientist']"
      ]
     },
     "execution_count": 38,
     "metadata": {},
     "output_type": "execute_result"
    }
   ],
   "source": [
    "name.rsplit(' ',1)"
   ]
  },
  {
   "cell_type": "markdown",
   "id": "d14f1939",
   "metadata": {},
   "source": [
    "### partition()"
   ]
  },
  {
   "cell_type": "code",
   "execution_count": 29,
   "id": "9f9e75d8",
   "metadata": {},
   "outputs": [
    {
     "name": "stdout",
     "output_type": "stream",
     "text": [
      "Help on method_descriptor:\n",
      "\n",
      "partition(self, sep, /)\n",
      "    Partition the string into three parts using the given separator.\n",
      "    \n",
      "    This will search for the separator in the string.  If the separator is found,\n",
      "    returns a 3-tuple containing the part before the separator, the separator\n",
      "    itself, and the part after it.\n",
      "    \n",
      "    If the separator is not found, returns a 3-tuple containing the original string\n",
      "    and two empty strings.\n",
      "\n"
     ]
    }
   ],
   "source": [
    "help(str.partition)"
   ]
  },
  {
   "cell_type": "code",
   "execution_count": 30,
   "id": "8f78d07d",
   "metadata": {},
   "outputs": [],
   "source": [
    "m = 'malayalam'"
   ]
  },
  {
   "cell_type": "code",
   "execution_count": 33,
   "id": "d38b079e",
   "metadata": {},
   "outputs": [
    {
     "data": {
      "text/plain": [
       "('m', 'a', 'layalam')"
      ]
     },
     "execution_count": 33,
     "metadata": {},
     "output_type": "execute_result"
    }
   ],
   "source": [
    "m.partition('a')"
   ]
  },
  {
   "cell_type": "code",
   "execution_count": 34,
   "id": "208776ac",
   "metadata": {},
   "outputs": [
    {
     "data": {
      "text/plain": [
       "('malayalam', '', '')"
      ]
     },
     "execution_count": 34,
     "metadata": {},
     "output_type": "execute_result"
    }
   ],
   "source": [
    "m.partition('z')"
   ]
  },
  {
   "cell_type": "code",
   "execution_count": 35,
   "id": "0bc99391",
   "metadata": {},
   "outputs": [
    {
     "data": {
      "text/plain": [
       "'malayalam'"
      ]
     },
     "execution_count": 35,
     "metadata": {},
     "output_type": "execute_result"
    }
   ],
   "source": [
    "m.partition('z')[0]+m.partition('z')[1]+m.partition('z')[2]"
   ]
  },
  {
   "cell_type": "code",
   "execution_count": 36,
   "id": "03efd2df",
   "metadata": {},
   "outputs": [
    {
     "data": {
      "text/plain": [
       "('malayal', 'a', 'm')"
      ]
     },
     "execution_count": 36,
     "metadata": {},
     "output_type": "execute_result"
    }
   ],
   "source": [
    "m.rpartition('a')"
   ]
  },
  {
   "cell_type": "code",
   "execution_count": null,
   "id": "52e33d37",
   "metadata": {},
   "outputs": [],
   "source": []
  }
 ],
 "metadata": {
  "kernelspec": {
   "display_name": "Python 3 (ipykernel)",
   "language": "python",
   "name": "python3"
  },
  "language_info": {
   "codemirror_mode": {
    "name": "ipython",
    "version": 3
   },
   "file_extension": ".py",
   "mimetype": "text/x-python",
   "name": "python",
   "nbconvert_exporter": "python",
   "pygments_lexer": "ipython3",
   "version": "3.11.5"
  }
 },
 "nbformat": 4,
 "nbformat_minor": 5
}
