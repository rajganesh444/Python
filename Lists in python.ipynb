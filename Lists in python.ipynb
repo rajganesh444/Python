{
 "cells": [
  {
   "cell_type": "markdown",
   "id": "2675e34e",
   "metadata": {},
   "source": [
    "### collection datatypes"
   ]
  },
  {
   "cell_type": "markdown",
   "id": "614c6b43",
   "metadata": {},
   "source": [
    "* list\n",
    "\n",
    "* Tuple\n",
    "\n",
    "* set \n",
    "\n",
    "* Dictionary\n",
    "\n",
    "* frozen sets\n",
    "\n",
    "* we use integer,string,float in collection Datatypes\n",
    "\n",
    "* But ATTRIBUTES ARE different"
   ]
  },
  {
   "cell_type": "markdown",
   "id": "c883870f",
   "metadata": {},
   "source": [
    "### List"
   ]
  },
  {
   "cell_type": "markdown",
   "id": "ffdeecc1",
   "metadata": {},
   "source": [
    "* In list datatype we store multiple values \n",
    "\n",
    "* List datatypes represented in square brackets[]\n",
    "\n",
    "* list are collection and they are hreterogeneous\n",
    "\n",
    "* Empty list = []\n",
    "\n",
    "* list are mutable i.e. changes happen in sames memory location "
   ]
  },
  {
   "cell_type": "markdown",
   "id": "50ea19e0",
   "metadata": {},
   "source": [
    "### CREATING A LIST OF VALUES"
   ]
  },
  {
   "cell_type": "code",
   "execution_count": 1,
   "id": "889017d8",
   "metadata": {},
   "outputs": [],
   "source": [
    "list = [1,2,3,4]"
   ]
  },
  {
   "cell_type": "markdown",
   "id": "0e43d663",
   "metadata": {},
   "source": [
    "### Basic function"
   ]
  },
  {
   "cell_type": "code",
   "execution_count": 2,
   "id": "4c911385",
   "metadata": {},
   "outputs": [
    {
     "name": "stdout",
     "output_type": "stream",
     "text": [
      "[1, 2, 3, 4]\n"
     ]
    }
   ],
   "source": [
    "print(list)"
   ]
  },
  {
   "cell_type": "code",
   "execution_count": 3,
   "id": "226d86ee",
   "metadata": {},
   "outputs": [
    {
     "data": {
      "text/plain": [
       "list"
      ]
     },
     "execution_count": 3,
     "metadata": {},
     "output_type": "execute_result"
    }
   ],
   "source": [
    "type(list)"
   ]
  },
  {
   "cell_type": "code",
   "execution_count": 4,
   "id": "1d57b868",
   "metadata": {},
   "outputs": [
    {
     "data": {
      "text/plain": [
       "3026621567360"
      ]
     },
     "execution_count": 4,
     "metadata": {},
     "output_type": "execute_result"
    }
   ],
   "source": [
    "id(list)"
   ]
  },
  {
   "cell_type": "code",
   "execution_count": 5,
   "id": "96f20da1",
   "metadata": {},
   "outputs": [
    {
     "data": {
      "text/plain": [
       "4"
      ]
     },
     "execution_count": 5,
     "metadata": {},
     "output_type": "execute_result"
    }
   ],
   "source": [
    "len(list)"
   ]
  },
  {
   "cell_type": "markdown",
   "id": "05809975",
   "metadata": {},
   "source": [
    "### Create an empty list"
   ]
  },
  {
   "cell_type": "code",
   "execution_count": 6,
   "id": "c09b2453",
   "metadata": {},
   "outputs": [],
   "source": [
    "val=[]"
   ]
  },
  {
   "cell_type": "code",
   "execution_count": 7,
   "id": "bb0abfe5",
   "metadata": {},
   "outputs": [
    {
     "data": {
      "text/plain": [
       "0"
      ]
     },
     "execution_count": 7,
     "metadata": {},
     "output_type": "execute_result"
    }
   ],
   "source": [
    "len(val)"
   ]
  },
  {
   "cell_type": "code",
   "execution_count": 8,
   "id": "44f7c024",
   "metadata": {},
   "outputs": [],
   "source": [
    "city = [\"kkd\",\"vizag\",\"hyd\"]"
   ]
  },
  {
   "cell_type": "code",
   "execution_count": 9,
   "id": "31884a6b",
   "metadata": {},
   "outputs": [
    {
     "name": "stdout",
     "output_type": "stream",
     "text": [
      "['kkd', 'vizag', 'hyd']\n"
     ]
    }
   ],
   "source": [
    "print(city)"
   ]
  },
  {
   "cell_type": "code",
   "execution_count": 10,
   "id": "c07ab7a9",
   "metadata": {},
   "outputs": [],
   "source": [
    "programmes = [\"java\",\"sql\",\"c\",\"python\"]"
   ]
  },
  {
   "cell_type": "code",
   "execution_count": 11,
   "id": "343ea63c",
   "metadata": {},
   "outputs": [
    {
     "name": "stdout",
     "output_type": "stream",
     "text": [
      "['java', 'sql', 'c', 'python']\n"
     ]
    }
   ],
   "source": [
    "print(programmes)"
   ]
  },
  {
   "cell_type": "code",
   "execution_count": 12,
   "id": "36bdd095",
   "metadata": {},
   "outputs": [
    {
     "data": {
      "text/plain": [
       "list"
      ]
     },
     "execution_count": 12,
     "metadata": {},
     "output_type": "execute_result"
    }
   ],
   "source": [
    "type(city)"
   ]
  },
  {
   "cell_type": "code",
   "execution_count": 14,
   "id": "1b4e1337",
   "metadata": {},
   "outputs": [
    {
     "data": {
      "text/plain": [
       "3026621575936"
      ]
     },
     "execution_count": 14,
     "metadata": {},
     "output_type": "execute_result"
    }
   ],
   "source": [
    "id(city)"
   ]
  },
  {
   "cell_type": "code",
   "execution_count": 15,
   "id": "77d9c567",
   "metadata": {},
   "outputs": [
    {
     "data": {
      "text/plain": [
       "3"
      ]
     },
     "execution_count": 15,
     "metadata": {},
     "output_type": "execute_result"
    }
   ],
   "source": [
    "len(city)"
   ]
  },
  {
   "cell_type": "markdown",
   "id": "c079e277",
   "metadata": {},
   "source": [
    "### Atributes of list"
   ]
  },
  {
   "cell_type": "markdown",
   "id": "6574409e",
   "metadata": {},
   "source": [
    "* m = mutable\n",
    "* o = ordered\n",
    "* D = Duplicate\n",
    "* i = index"
   ]
  },
  {
   "cell_type": "markdown",
   "id": "cf714b3e",
   "metadata": {},
   "source": [
    "### mutable\n"
   ]
  },
  {
   "cell_type": "markdown",
   "id": "809802e9",
   "metadata": {},
   "source": [
    "* mutable means change the orginal value"
   ]
  },
  {
   "cell_type": "code",
   "execution_count": 17,
   "id": "1c88e83b",
   "metadata": {},
   "outputs": [],
   "source": [
    "a = 5\n"
   ]
  },
  {
   "cell_type": "code",
   "execution_count": 18,
   "id": "1d8a519e",
   "metadata": {},
   "outputs": [
    {
     "data": {
      "text/plain": [
       "10"
      ]
     },
     "execution_count": 18,
     "metadata": {},
     "output_type": "execute_result"
    }
   ],
   "source": [
    "a + 5"
   ]
  },
  {
   "cell_type": "code",
   "execution_count": 19,
   "id": "9e19f36d",
   "metadata": {},
   "outputs": [
    {
     "data": {
      "text/plain": [
       "5"
      ]
     },
     "execution_count": 19,
     "metadata": {},
     "output_type": "execute_result"
    }
   ],
   "source": [
    "a"
   ]
  },
  {
   "cell_type": "code",
   "execution_count": 20,
   "id": "124eaa07",
   "metadata": {},
   "outputs": [],
   "source": [
    "b = \"hello\""
   ]
  },
  {
   "cell_type": "code",
   "execution_count": 21,
   "id": "9dd1362b",
   "metadata": {},
   "outputs": [
    {
     "data": {
      "text/plain": [
       "'helloworld'"
      ]
     },
     "execution_count": 21,
     "metadata": {},
     "output_type": "execute_result"
    }
   ],
   "source": [
    "b +\"world\""
   ]
  },
  {
   "cell_type": "code",
   "execution_count": 22,
   "id": "66e7339e",
   "metadata": {},
   "outputs": [
    {
     "data": {
      "text/plain": [
       "'hello'"
      ]
     },
     "execution_count": 22,
     "metadata": {},
     "output_type": "execute_result"
    }
   ],
   "source": [
    "b"
   ]
  },
  {
   "cell_type": "code",
   "execution_count": 23,
   "id": "89ecfa02",
   "metadata": {},
   "outputs": [],
   "source": [
    "c = 2.5"
   ]
  },
  {
   "cell_type": "code",
   "execution_count": 24,
   "id": "f9f112b3",
   "metadata": {},
   "outputs": [
    {
     "data": {
      "text/plain": [
       "6.0"
      ]
     },
     "execution_count": 24,
     "metadata": {},
     "output_type": "execute_result"
    }
   ],
   "source": [
    "c +3.5"
   ]
  },
  {
   "cell_type": "code",
   "execution_count": 25,
   "id": "e65561b4",
   "metadata": {},
   "outputs": [
    {
     "data": {
      "text/plain": [
       "2.5"
      ]
     },
     "execution_count": 25,
     "metadata": {},
     "output_type": "execute_result"
    }
   ],
   "source": [
    "c"
   ]
  },
  {
   "cell_type": "code",
   "execution_count": 30,
   "id": "6a84f93d",
   "metadata": {},
   "outputs": [],
   "source": [
    "list = [1,2,\"hello\", True ,5]"
   ]
  },
  {
   "cell_type": "code",
   "execution_count": 31,
   "id": "c0f0a87a",
   "metadata": {},
   "outputs": [],
   "source": [
    "list.append(5)"
   ]
  },
  {
   "cell_type": "code",
   "execution_count": 32,
   "id": "76354e5d",
   "metadata": {},
   "outputs": [
    {
     "data": {
      "text/plain": [
       "[1, 2, 'hello', True, 5, 5]"
      ]
     },
     "execution_count": 32,
     "metadata": {},
     "output_type": "execute_result"
    }
   ],
   "source": [
    "list"
   ]
  },
  {
   "cell_type": "markdown",
   "id": "11ce00ff",
   "metadata": {},
   "source": [
    "### Ordered"
   ]
  },
  {
   "cell_type": "markdown",
   "id": "74e6bb14",
   "metadata": {},
   "source": [
    "* follow some sequency or numbering"
   ]
  },
  {
   "cell_type": "code",
   "execution_count": 33,
   "id": "7fd41c3d",
   "metadata": {},
   "outputs": [],
   "source": [
    "list = [1,2,3,4,6]"
   ]
  },
  {
   "cell_type": "code",
   "execution_count": 34,
   "id": "0c6264b2",
   "metadata": {},
   "outputs": [
    {
     "data": {
      "text/plain": [
       "4"
      ]
     },
     "execution_count": 34,
     "metadata": {},
     "output_type": "execute_result"
    }
   ],
   "source": [
    "list[3]"
   ]
  },
  {
   "cell_type": "code",
   "execution_count": 35,
   "id": "f59c3b30",
   "metadata": {},
   "outputs": [],
   "source": [
    "list = [1,2,\"hello\",5.5,2+3j ]"
   ]
  },
  {
   "cell_type": "code",
   "execution_count": 36,
   "id": "f37bacd6",
   "metadata": {},
   "outputs": [
    {
     "data": {
      "text/plain": [
       "[2, 'hello', 5.5, (2+3j)]"
      ]
     },
     "execution_count": 36,
     "metadata": {},
     "output_type": "execute_result"
    }
   ],
   "source": [
    "list[1:5]"
   ]
  },
  {
   "cell_type": "code",
   "execution_count": 37,
   "id": "8c0ea1ad",
   "metadata": {},
   "outputs": [
    {
     "data": {
      "text/plain": [
       "[1, 2, 'hello', 5.5, (2+3j)]"
      ]
     },
     "execution_count": 37,
     "metadata": {},
     "output_type": "execute_result"
    }
   ],
   "source": [
    "list[0:7]"
   ]
  },
  {
   "cell_type": "code",
   "execution_count": 38,
   "id": "a010fb66",
   "metadata": {},
   "outputs": [
    {
     "data": {
      "text/plain": [
       "[(2+3j), 5.5, 'hello', 2]"
      ]
     },
     "execution_count": 38,
     "metadata": {},
     "output_type": "execute_result"
    }
   ],
   "source": [
    "list[-1:-5:-1]"
   ]
  },
  {
   "cell_type": "code",
   "execution_count": 39,
   "id": "900eb7ae",
   "metadata": {},
   "outputs": [
    {
     "data": {
      "text/plain": [
       "[5.5, 2]"
      ]
     },
     "execution_count": 39,
     "metadata": {},
     "output_type": "execute_result"
    }
   ],
   "source": [
    "list[-2:-5:-2]"
   ]
  },
  {
   "cell_type": "markdown",
   "id": "eda5a2f6",
   "metadata": {},
   "source": [
    "### Duplicate"
   ]
  },
  {
   "cell_type": "markdown",
   "id": "1aca7eff",
   "metadata": {},
   "source": [
    "* it allows duplicate valuse"
   ]
  },
  {
   "cell_type": "code",
   "execution_count": 40,
   "id": "b55b451e",
   "metadata": {},
   "outputs": [],
   "source": [
    "list = [1,2,3,4,5]"
   ]
  },
  {
   "cell_type": "code",
   "execution_count": 41,
   "id": "9fce2f4a",
   "metadata": {},
   "outputs": [
    {
     "data": {
      "text/plain": [
       "[1, 2, 3, 4, 5]"
      ]
     },
     "execution_count": 41,
     "metadata": {},
     "output_type": "execute_result"
    }
   ],
   "source": [
    "list"
   ]
  },
  {
   "cell_type": "code",
   "execution_count": 42,
   "id": "6862c5d9",
   "metadata": {},
   "outputs": [],
   "source": [
    "a = [\"python\",\"c\",\"python\",\"c++\"]"
   ]
  },
  {
   "cell_type": "code",
   "execution_count": 43,
   "id": "04a9cc9d",
   "metadata": {},
   "outputs": [
    {
     "data": {
      "text/plain": [
       "['python', 'c', 'python', 'c++']"
      ]
     },
     "execution_count": 43,
     "metadata": {},
     "output_type": "execute_result"
    }
   ],
   "source": [
    "a"
   ]
  },
  {
   "cell_type": "markdown",
   "id": "f97dc4b1",
   "metadata": {},
   "source": [
    "### index"
   ]
  },
  {
   "cell_type": "markdown",
   "id": "c65632d8",
   "metadata": {},
   "source": [
    "* it follows index number\n",
    "* we apply string concept in index"
   ]
  },
  {
   "cell_type": "code",
   "execution_count": 50,
   "id": "67dbc63b",
   "metadata": {},
   "outputs": [],
   "source": [
    "list = [\"java\",\"python\",\"sql\",\"c++\"]"
   ]
  },
  {
   "cell_type": "code",
   "execution_count": 51,
   "id": "dd7dab16",
   "metadata": {},
   "outputs": [
    {
     "data": {
      "text/plain": [
       "'python'"
      ]
     },
     "execution_count": 51,
     "metadata": {},
     "output_type": "execute_result"
    }
   ],
   "source": [
    "list[1]"
   ]
  },
  {
   "cell_type": "code",
   "execution_count": 52,
   "id": "3e8e04e1",
   "metadata": {},
   "outputs": [
    {
     "data": {
      "text/plain": [
       "'c++'"
      ]
     },
     "execution_count": 52,
     "metadata": {},
     "output_type": "execute_result"
    }
   ],
   "source": [
    "list[3]"
   ]
  },
  {
   "cell_type": "code",
   "execution_count": 53,
   "id": "9755954e",
   "metadata": {},
   "outputs": [],
   "source": [
    "a = \"hello\""
   ]
  },
  {
   "cell_type": "code",
   "execution_count": 54,
   "id": "275c3ba7",
   "metadata": {},
   "outputs": [
    {
     "data": {
      "text/plain": [
       "'he'"
      ]
     },
     "execution_count": 54,
     "metadata": {},
     "output_type": "execute_result"
    }
   ],
   "source": [
    "a[0:2]"
   ]
  },
  {
   "cell_type": "code",
   "execution_count": 55,
   "id": "c8008d2a",
   "metadata": {},
   "outputs": [],
   "source": [
    "list = [\"java\",\"python\",]"
   ]
  },
  {
   "cell_type": "code",
   "execution_count": 56,
   "id": "570edc81",
   "metadata": {},
   "outputs": [
    {
     "data": {
      "text/plain": [
       "'pytho'"
      ]
     },
     "execution_count": 56,
     "metadata": {},
     "output_type": "execute_result"
    }
   ],
   "source": [
    "list[1] [0:5]"
   ]
  },
  {
   "cell_type": "markdown",
   "id": "6205540d",
   "metadata": {},
   "source": [
    "### Mathematical functions"
   ]
  },
  {
   "cell_type": "code",
   "execution_count": 60,
   "id": "56129412",
   "metadata": {},
   "outputs": [],
   "source": [
    "l = [ 1,2,4,7,52,45]"
   ]
  },
  {
   "cell_type": "code",
   "execution_count": 62,
   "id": "b476ada2",
   "metadata": {},
   "outputs": [
    {
     "data": {
      "text/plain": [
       "52"
      ]
     },
     "execution_count": 62,
     "metadata": {},
     "output_type": "execute_result"
    }
   ],
   "source": [
    "max(l)"
   ]
  },
  {
   "cell_type": "code",
   "execution_count": 63,
   "id": "f108c755",
   "metadata": {},
   "outputs": [
    {
     "data": {
      "text/plain": [
       "1"
      ]
     },
     "execution_count": 63,
     "metadata": {},
     "output_type": "execute_result"
    }
   ],
   "source": [
    "min(l)"
   ]
  },
  {
   "cell_type": "code",
   "execution_count": 64,
   "id": "542c2bec",
   "metadata": {},
   "outputs": [
    {
     "data": {
      "text/plain": [
       "111"
      ]
     },
     "execution_count": 64,
     "metadata": {},
     "output_type": "execute_result"
    }
   ],
   "source": [
    "sum(l)"
   ]
  },
  {
   "cell_type": "markdown",
   "id": "2052c387",
   "metadata": {},
   "source": [
    "### List methoods and functions"
   ]
  },
  {
   "cell_type": "markdown",
   "id": "2dc9ef65",
   "metadata": {},
   "source": [
    "#### append()"
   ]
  },
  {
   "cell_type": "code",
   "execution_count": 65,
   "id": "eb2dc989",
   "metadata": {},
   "outputs": [],
   "source": [
    "list1 = [1,2,3,4,5]"
   ]
  },
  {
   "cell_type": "code",
   "execution_count": 66,
   "id": "de6e73ef",
   "metadata": {},
   "outputs": [],
   "source": [
    "list1.append(100)"
   ]
  },
  {
   "cell_type": "code",
   "execution_count": 68,
   "id": "55f8489e",
   "metadata": {},
   "outputs": [
    {
     "data": {
      "text/plain": [
       "[1, 2, 3, 4, 5, 100]"
      ]
     },
     "execution_count": 68,
     "metadata": {},
     "output_type": "execute_result"
    }
   ],
   "source": [
    "list1"
   ]
  },
  {
   "cell_type": "code",
   "execution_count": 70,
   "id": "9d03b239",
   "metadata": {},
   "outputs": [],
   "source": [
    "list2 = [1,2,5,76,\"hello\"]"
   ]
  },
  {
   "cell_type": "code",
   "execution_count": 71,
   "id": "244cd7be",
   "metadata": {},
   "outputs": [],
   "source": [
    "list2.append(\"world\")"
   ]
  },
  {
   "cell_type": "code",
   "execution_count": 72,
   "id": "547ef3f9",
   "metadata": {},
   "outputs": [
    {
     "data": {
      "text/plain": [
       "[1, 2, 5, 76, 'hello', 'world']"
      ]
     },
     "execution_count": 72,
     "metadata": {},
     "output_type": "execute_result"
    }
   ],
   "source": [
    "list2"
   ]
  },
  {
   "cell_type": "markdown",
   "id": "d547dd44",
   "metadata": {},
   "source": [
    "### insert()"
   ]
  },
  {
   "cell_type": "code",
   "execution_count": 73,
   "id": "7c691942",
   "metadata": {},
   "outputs": [],
   "source": [
    "list = [11,22,33,45,67,88]"
   ]
  },
  {
   "cell_type": "code",
   "execution_count": 74,
   "id": "6d2bb47d",
   "metadata": {},
   "outputs": [],
   "source": [
    "list.insert(2,10)           # adding values between number"
   ]
  },
  {
   "cell_type": "code",
   "execution_count": 75,
   "id": "8327ec71",
   "metadata": {},
   "outputs": [
    {
     "data": {
      "text/plain": [
       "[11, 22, 10, 33, 45, 67, 88]"
      ]
     },
     "execution_count": 75,
     "metadata": {},
     "output_type": "execute_result"
    }
   ],
   "source": [
    "list"
   ]
  },
  {
   "cell_type": "code",
   "execution_count": 76,
   "id": "7b0b0f4a",
   "metadata": {},
   "outputs": [],
   "source": [
    "list = [22,34,74,\"hello\"]"
   ]
  },
  {
   "cell_type": "code",
   "execution_count": 77,
   "id": "e51ba3f1",
   "metadata": {},
   "outputs": [],
   "source": [
    "list.insert(4,\"world\")"
   ]
  },
  {
   "cell_type": "code",
   "execution_count": 78,
   "id": "5aa806ad",
   "metadata": {},
   "outputs": [
    {
     "data": {
      "text/plain": [
       "[22, 34, 74, 'hello', 'world']"
      ]
     },
     "execution_count": 78,
     "metadata": {},
     "output_type": "execute_result"
    }
   ],
   "source": [
    "list"
   ]
  },
  {
   "cell_type": "code",
   "execution_count": 79,
   "id": "aa1443d6",
   "metadata": {},
   "outputs": [],
   "source": [
    " list.insert(2,80)"
   ]
  },
  {
   "cell_type": "code",
   "execution_count": 80,
   "id": "9428c67d",
   "metadata": {},
   "outputs": [
    {
     "data": {
      "text/plain": [
       "[22, 34, 80, 74, 'hello', 'world']"
      ]
     },
     "execution_count": 80,
     "metadata": {},
     "output_type": "execute_result"
    }
   ],
   "source": [
    "list"
   ]
  },
  {
   "cell_type": "markdown",
   "id": "10b16ba1",
   "metadata": {},
   "source": [
    "### Extend()"
   ]
  },
  {
   "cell_type": "code",
   "execution_count": 103,
   "id": "baeaec44",
   "metadata": {},
   "outputs": [],
   "source": [
    "list2 = [1,2,3,4,5,6,7]"
   ]
  },
  {
   "cell_type": "code",
   "execution_count": 104,
   "id": "397e9000",
   "metadata": {},
   "outputs": [],
   "source": [
    "list2.extend([0,0,0])       # adding more values at the and "
   ]
  },
  {
   "cell_type": "code",
   "execution_count": 105,
   "id": "696da782",
   "metadata": {},
   "outputs": [
    {
     "data": {
      "text/plain": [
       "[1, 2, 3, 4, 5, 6, 7, 0, 0, 0]"
      ]
     },
     "execution_count": 105,
     "metadata": {},
     "output_type": "execute_result"
    }
   ],
   "source": [
    "list2"
   ]
  },
  {
   "cell_type": "code",
   "execution_count": 106,
   "id": "b894e3c6",
   "metadata": {},
   "outputs": [],
   "source": [
    "list2.extend([\"hello\"])"
   ]
  },
  {
   "cell_type": "code",
   "execution_count": 107,
   "id": "15f2402b",
   "metadata": {},
   "outputs": [
    {
     "data": {
      "text/plain": [
       "[1, 2, 3, 4, 5, 6, 7, 0, 0, 0, 'hello']"
      ]
     },
     "execution_count": 107,
     "metadata": {},
     "output_type": "execute_result"
    }
   ],
   "source": [
    "list2"
   ]
  },
  {
   "cell_type": "code",
   "execution_count": 108,
   "id": "13728828",
   "metadata": {},
   "outputs": [],
   "source": [
    "list2.extend([8,\"world\"])"
   ]
  },
  {
   "cell_type": "code",
   "execution_count": 109,
   "id": "475e46d1",
   "metadata": {},
   "outputs": [
    {
     "data": {
      "text/plain": [
       "[1, 2, 3, 4, 5, 6, 7, 0, 0, 0, 'hello', 8, 'world']"
      ]
     },
     "execution_count": 109,
     "metadata": {},
     "output_type": "execute_result"
    }
   ],
   "source": [
    "list2"
   ]
  },
  {
   "cell_type": "markdown",
   "id": "22db7875",
   "metadata": {},
   "source": [
    "### remove()"
   ]
  },
  {
   "cell_type": "code",
   "execution_count": 110,
   "id": "123fc245",
   "metadata": {},
   "outputs": [],
   "source": [
    "list = [11,22,33,44,55]"
   ]
  },
  {
   "cell_type": "code",
   "execution_count": 111,
   "id": "428cccea",
   "metadata": {},
   "outputs": [],
   "source": [
    "list.remove(33)"
   ]
  },
  {
   "cell_type": "code",
   "execution_count": 112,
   "id": "7510c4a2",
   "metadata": {},
   "outputs": [
    {
     "data": {
      "text/plain": [
       "[11, 22, 44, 55]"
      ]
     },
     "execution_count": 112,
     "metadata": {},
     "output_type": "execute_result"
    }
   ],
   "source": [
    "list"
   ]
  },
  {
   "cell_type": "code",
   "execution_count": 129,
   "id": "c5c8411f",
   "metadata": {},
   "outputs": [],
   "source": [
    "name = [\"bunny\",\"sai\",\"pallu\",]"
   ]
  },
  {
   "cell_type": "code",
   "execution_count": 130,
   "id": "d811ed39",
   "metadata": {},
   "outputs": [],
   "source": [
    "name.remove(\"pallu\")"
   ]
  },
  {
   "cell_type": "code",
   "execution_count": 131,
   "id": "9e78420e",
   "metadata": {},
   "outputs": [
    {
     "data": {
      "text/plain": [
       "['bunny', 'sai']"
      ]
     },
     "execution_count": 131,
     "metadata": {},
     "output_type": "execute_result"
    }
   ],
   "source": [
    "name"
   ]
  },
  {
   "cell_type": "markdown",
   "id": "1fe9ac39",
   "metadata": {},
   "source": [
    "### pop()"
   ]
  },
  {
   "cell_type": "code",
   "execution_count": 132,
   "id": "307a6371",
   "metadata": {},
   "outputs": [],
   "source": [
    "list = [1,22,33,44,55]"
   ]
  },
  {
   "cell_type": "code",
   "execution_count": 134,
   "id": "b5f76a98",
   "metadata": {},
   "outputs": [
    {
     "data": {
      "text/plain": [
       "33"
      ]
     },
     "execution_count": 134,
     "metadata": {},
     "output_type": "execute_result"
    }
   ],
   "source": [
    "list.pop(2)"
   ]
  },
  {
   "cell_type": "code",
   "execution_count": 135,
   "id": "c036ae5d",
   "metadata": {},
   "outputs": [
    {
     "data": {
      "text/plain": [
       "[1, 22, 44, 55]"
      ]
     },
     "execution_count": 135,
     "metadata": {},
     "output_type": "execute_result"
    }
   ],
   "source": [
    "list"
   ]
  },
  {
   "cell_type": "code",
   "execution_count": 136,
   "id": "0f8db761",
   "metadata": {},
   "outputs": [],
   "source": [
    "list = [\"python\",\"java\",\"sql\"]"
   ]
  },
  {
   "cell_type": "code",
   "execution_count": 137,
   "id": "f0ac01e6",
   "metadata": {},
   "outputs": [
    {
     "data": {
      "text/plain": [
       "'java'"
      ]
     },
     "execution_count": 137,
     "metadata": {},
     "output_type": "execute_result"
    }
   ],
   "source": [
    "list.pop(1)"
   ]
  },
  {
   "cell_type": "code",
   "execution_count": 138,
   "id": "cc02f0e0",
   "metadata": {},
   "outputs": [
    {
     "data": {
      "text/plain": [
       "['python', 'sql']"
      ]
     },
     "execution_count": 138,
     "metadata": {},
     "output_type": "execute_result"
    }
   ],
   "source": [
    "list"
   ]
  },
  {
   "cell_type": "markdown",
   "id": "6f303bfb",
   "metadata": {},
   "source": [
    "### clear()"
   ]
  },
  {
   "cell_type": "code",
   "execution_count": 139,
   "id": "c4a4c611",
   "metadata": {},
   "outputs": [],
   "source": [
    "list = [44,66,77,99]"
   ]
  },
  {
   "cell_type": "code",
   "execution_count": 141,
   "id": "e8343464",
   "metadata": {},
   "outputs": [],
   "source": [
    "list.clear()"
   ]
  },
  {
   "cell_type": "code",
   "execution_count": 142,
   "id": "d216544f",
   "metadata": {},
   "outputs": [
    {
     "data": {
      "text/plain": [
       "[]"
      ]
     },
     "execution_count": 142,
     "metadata": {},
     "output_type": "execute_result"
    }
   ],
   "source": [
    "list"
   ]
  },
  {
   "cell_type": "markdown",
   "id": "501bfd4f",
   "metadata": {},
   "source": [
    "### copy()"
   ]
  },
  {
   "cell_type": "code",
   "execution_count": 143,
   "id": "4a1c0da7",
   "metadata": {},
   "outputs": [],
   "source": [
    "list = [\"hello\",23,55]"
   ]
  },
  {
   "cell_type": "code",
   "execution_count": 144,
   "id": "1b0db8de",
   "metadata": {},
   "outputs": [
    {
     "data": {
      "text/plain": [
       "['hello', 23, 55]"
      ]
     },
     "execution_count": 144,
     "metadata": {},
     "output_type": "execute_result"
    }
   ],
   "source": [
    "list.copy()"
   ]
  },
  {
   "cell_type": "markdown",
   "id": "b43f26c5",
   "metadata": {},
   "source": [
    "### count()"
   ]
  },
  {
   "cell_type": "code",
   "execution_count": 145,
   "id": "affc1418",
   "metadata": {},
   "outputs": [],
   "source": [
    "list = [22,22,33,22,44,55,24]"
   ]
  },
  {
   "cell_type": "code",
   "execution_count": 146,
   "id": "aea4b65a",
   "metadata": {},
   "outputs": [
    {
     "data": {
      "text/plain": [
       "3"
      ]
     },
     "execution_count": 146,
     "metadata": {},
     "output_type": "execute_result"
    }
   ],
   "source": [
    "list.count(22)"
   ]
  },
  {
   "cell_type": "code",
   "execution_count": 147,
   "id": "de0afc0d",
   "metadata": {},
   "outputs": [],
   "source": [
    "name = [\"sai\",\"bunny\",\"sai\"]"
   ]
  },
  {
   "cell_type": "code",
   "execution_count": 148,
   "id": "e6eb0954",
   "metadata": {},
   "outputs": [
    {
     "data": {
      "text/plain": [
       "2"
      ]
     },
     "execution_count": 148,
     "metadata": {},
     "output_type": "execute_result"
    }
   ],
   "source": [
    "name.count(\"sai\")"
   ]
  },
  {
   "cell_type": "markdown",
   "id": "d4aab0d7",
   "metadata": {},
   "source": [
    "### index()"
   ]
  },
  {
   "cell_type": "code",
   "execution_count": 169,
   "id": "c6634918",
   "metadata": {},
   "outputs": [],
   "source": [
    "list = [\"hello\",1,2,3,4,\"hai\",5,6,7,8,9,10,\"Hi\",67,78]"
   ]
  },
  {
   "cell_type": "code",
   "execution_count": 174,
   "id": "ede2837a",
   "metadata": {},
   "outputs": [
    {
     "data": {
      "text/plain": [
       "12"
      ]
     },
     "execution_count": 174,
     "metadata": {},
     "output_type": "execute_result"
    }
   ],
   "source": [
    "list.index(\"Hi\")"
   ]
  },
  {
   "cell_type": "markdown",
   "id": "c333aecb",
   "metadata": {},
   "source": []
  },
  {
   "cell_type": "code",
   "execution_count": null,
   "id": "a906a0ad",
   "metadata": {},
   "outputs": [],
   "source": []
  }
 ],
 "metadata": {
  "kernelspec": {
   "display_name": "Python 3 (ipykernel)",
   "language": "python",
   "name": "python3"
  },
  "language_info": {
   "codemirror_mode": {
    "name": "ipython",
    "version": 3
   },
   "file_extension": ".py",
   "mimetype": "text/x-python",
   "name": "python",
   "nbconvert_exporter": "python",
   "pygments_lexer": "ipython3",
   "version": "3.11.5"
  }
 },
 "nbformat": 4,
 "nbformat_minor": 5
}
