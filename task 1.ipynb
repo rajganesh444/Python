{
 "cells": [
  {
   "cell_type": "code",
   "execution_count": 6,
   "id": "e899d026",
   "metadata": {},
   "outputs": [
    {
     "name": "stdout",
     "output_type": "stream",
     "text": [
      "enter your age:12\n",
      "you are minor\n"
     ]
    }
   ],
   "source": [
    "age = int(input(\"enter your age:\"))    #first question\n",
    "if age < 18 :\n",
    "    print(\"you are minor\")\n",
    "else :\n",
    "        print(\"you are adult\")"
   ]
  },
  {
   "cell_type": "code",
   "execution_count": 9,
   "id": "50b219c8",
   "metadata": {},
   "outputs": [
    {
     "name": "stdout",
     "output_type": "stream",
     "text": [
      "Enter your marks(to get your grade):76\n",
      "C grade\n"
     ]
    }
   ],
   "source": [
    "marks = int(input(\"Enter your marks(to get your grade):\"))  #second question\n",
    "\n",
    "if marks in range(90,100):\n",
    "    print('A grade')\n",
    "elif marks >= 80:\n",
    "    print('B grade')\n",
    "elif marks >= 70:\n",
    "    print('C grade')\n",
    "elif marks >= 60:\n",
    "    print('D grade')\n",
    "else:\n",
    "    print('Fail')\n"
   ]
  },
  {
   "cell_type": "code",
   "execution_count": 10,
   "id": "719ecbc7",
   "metadata": {},
   "outputs": [
    {
     "name": "stdout",
     "output_type": "stream",
     "text": [
      "Enter your age:45\n",
      "You are eligible to vote\n"
     ]
    }
   ],
   "source": [
    "age =int(input(\"Enter your age:\"))        #sevententh question\n",
    "if age >= 18 :\n",
    "    print(\"You are eligible to vote\")\n",
    "else:\n",
    "    print(\"you are not eligible to vote\")"
   ]
  },
  {
   "cell_type": "code",
   "execution_count": 11,
   "id": "f470a1ed",
   "metadata": {},
   "outputs": [
    {
     "name": "stdout",
     "output_type": "stream",
     "text": [
      "enter an integer:5\n",
      "odd number\n"
     ]
    }
   ],
   "source": [
    "num =int(input(\"enter an integer:\"))       # eight question\n",
    "if num % 2==0 :\n",
    "    print(\"even number\")\n",
    "else:\n",
    "    print(\"odd number\")"
   ]
  },
  {
   "cell_type": "code",
   "execution_count": 12,
   "id": "998907c4",
   "metadata": {},
   "outputs": [
    {
     "name": "stdout",
     "output_type": "stream",
     "text": [
      "Type first number: 6\n",
      "Type any of this (+, -, *, /, %, **): +\n",
      "Type second number: 6\n",
      "Answer is 12\n"
     ]
    }
   ],
   "source": [
    "num1 = int(input(\"Type first number: \"))                   # eleven qustion \n",
    "operator = input(\"Type any of this (+, -, *, /, %, **): \")\n",
    "num2 = int(input(\"Type second number: \"))\n",
    "def calculate(num1, operator, num2):\n",
    "    if operator == '+':\n",
    "        return num1 + num2\n",
    "    elif operator == '-':\n",
    "        return num1 - num2\n",
    "    elif operator == '*':\n",
    "        return num1 * num2\n",
    "    elif operator == '%':\n",
    "        return num1 % num2\n",
    "    elif operator == '**':\n",
    "        return num1 ** num2\n",
    "    else:\n",
    "        return \"Invalid operator\"\n",
    "result = calculate(num1, operator, num2)\n",
    "print(\"Answer is\", result)"
   ]
  },
  {
   "cell_type": "code",
   "execution_count": 5,
   "id": "be82ed51",
   "metadata": {},
   "outputs": [
    {
     "name": "stdout",
     "output_type": "stream",
     "text": [
      "Enter your salary: 30000\n",
      "Enter your years of service: 6\n",
      "You are eligible for a bonus of $1500.00.\n"
     ]
    }
   ],
   "source": [
    "salary = float(input(\"Enter your salary: \"))                 #fourteen qustion\n",
    "years_of_service = int(input(\"Enter your years of service: \"))\n",
    "if years_of_service > 5:\n",
    "    bonus = 0.05 * salary  \n",
    "    print(f\"You are eligible for a bonus of ${bonus:.2f}.\")\n",
    "else:\n",
    "    print(\"You are not eligible for a bonus.\")\n"
   ]
  },
  {
   "cell_type": "code",
   "execution_count": 8,
   "id": "718a7dbb",
   "metadata": {},
   "outputs": [
    {
     "name": "stdout",
     "output_type": "stream",
     "text": [
      "enter city name:kakinada\n",
      "enter wrong city\n"
     ]
    }
   ],
   "source": [
    "city = (input(\"enter city name:\"))               # sixteen qustion\n",
    "if city == \"hyderabad\":\n",
    "     print(\"charminar\")\n",
    "elif city == \"dehli\":\n",
    "    print(\"red fort\")\n",
    "elif city ==\"agre\":\n",
    "    print(\"tej mahal\")\n",
    "else:\n",
    "    print(\"enter wrong city\")\n",
    "    \n"
   ]
  },
  {
   "cell_type": "code",
   "execution_count": 16,
   "id": "5fd48c3e",
   "metadata": {},
   "outputs": [
    {
     "name": "stdout",
     "output_type": "stream",
     "text": [
      "enter temperature10\n",
      "it is hot\n"
     ]
    }
   ],
   "source": [
    "temperature =int(input(\"enter temperature\"))\n",
    "if temperature < 0:\n",
    "    print(\"it is freezing\")\n",
    "elif temperature in range (0,10):\n",
    "        print(\"it is cool\")\n",
    "elif temperature in range (11,20):\n",
    "        print(\"it is warm\")\n",
    "else:\n",
    "            print(\"it is hot\")"
   ]
  },
  {
   "cell_type": "code",
   "execution_count": null,
   "id": "f4b23a23",
   "metadata": {},
   "outputs": [],
   "source": []
  },
  {
   "cell_type": "code",
   "execution_count": null,
   "id": "8319521b",
   "metadata": {},
   "outputs": [],
   "source": []
  }
 ],
 "metadata": {
  "kernelspec": {
   "display_name": "Python 3 (ipykernel)",
   "language": "python",
   "name": "python3"
  },
  "language_info": {
   "codemirror_mode": {
    "name": "ipython",
    "version": 3
   },
   "file_extension": ".py",
   "mimetype": "text/x-python",
   "name": "python",
   "nbconvert_exporter": "python",
   "pygments_lexer": "ipython3",
   "version": "3.11.5"
  }
 },
 "nbformat": 4,
 "nbformat_minor": 5
}
