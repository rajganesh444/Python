{
 "cells": [
  {
   "cell_type": "markdown",
   "id": "7769cf6a",
   "metadata": {},
   "source": [
    "# FUNCTION"
   ]
  },
  {
   "cell_type": "markdown",
   "id": "fdfb9c6f",
   "metadata": {},
   "source": [
    "* it is a block of code, which executes a disired task. a function cab be called in number of times instead of writing the code requried to execute the task\n",
    "\n",
    "\n",
    "* there are two steps in creating a function,defining a function and calling the function\n",
    "\n",
    "\n",
    "* syntax a defining a func:\n",
    "\n",
    "    * def func_name(parameter/s):\n",
    "    \n",
    "        * block of code\n",
    "        \n",
    "        \n",
    "\n",
    "* def : is a keyword,which tells the interpretor that we are defining a function\n",
    "\n",
    "\n",
    "* func name : is name we give to the function we are defining,it acts as avariable name to the block of code we are writing\n",
    "\n",
    "\n",
    "* parameter : these can be considered as the variables we use to write/define our function\n",
    "\n",
    "* sytax for calling a function:\n",
    "         \n",
    "     * func_name(arg/s)\n",
    "     \n",
    "   *arg/s are actual inputs for function  \n"
   ]
  },
  {
   "cell_type": "markdown",
   "id": "67dbf24b",
   "metadata": {},
   "source": [
    "# parameter"
   ]
  },
  {
   "cell_type": "markdown",
   "id": "ca0c25f8",
   "metadata": {},
   "source": [
    "* A parameter is the variable listed inside the parentheses in the function definition\n",
    "\n",
    "* AN arrgument is the value that is sent to the function when it is called"
   ]
  },
  {
   "cell_type": "markdown",
   "id": "64af959a",
   "metadata": {},
   "source": [
    "# ARRGUMENT"
   ]
  },
  {
   "cell_type": "markdown",
   "id": "5ac3ffe3",
   "metadata": {},
   "source": [
    "*AN arrgument is a value that is passed to a function when it is called. it migth be a object passed to a functionor method as input. they are writtenwhen we are calling  the function\n",
    "\n",
    "\n",
    "In python,we have the following arrgument.\n",
    "         \n",
    "   * Default arrgument.\n",
    "        \n",
    "   * Keyword arrgument (named arrgument)\n",
    "   \n",
    "   * position arrgument\n",
    "    \n",
    "   * Arbitrary arrgument (variable-length arrgument args)"
   ]
  },
  {
   "cell_type": "markdown",
   "id": "9a6c7c1e",
   "metadata": {},
   "source": [
    "## Number of arrgument\n",
    "  BY dufault,a function must be called with the correct number of aeegument.meaning that if your function expects 2 arrguments,not more,andnot less"
   ]
  },
  {
   "cell_type": "code",
   "execution_count": null,
   "id": "d1eb94f4",
   "metadata": {},
   "outputs": [],
   "source": []
  },
  {
   "cell_type": "code",
   "execution_count": 2,
   "id": "b43ec0bb",
   "metadata": {},
   "outputs": [],
   "source": [
    "def foosum(a,b):\n",
    "    print(a +b)"
   ]
  },
  {
   "cell_type": "code",
   "execution_count": 3,
   "id": "a799ba24",
   "metadata": {},
   "outputs": [
    {
     "name": "stdout",
     "output_type": "stream",
     "text": [
      "4\n"
     ]
    }
   ],
   "source": [
    "foosum(1,3)"
   ]
  },
  {
   "cell_type": "code",
   "execution_count": null,
   "id": "370d45fb",
   "metadata": {},
   "outputs": [],
   "source": [
    "foosum(-3,-5)"
   ]
  },
  {
   "cell_type": "code",
   "execution_count": 6,
   "id": "0fa5088d",
   "metadata": {},
   "outputs": [],
   "source": [
    "def foodivision(n,d):\n",
    "    print(n/d)"
   ]
  },
  {
   "cell_type": "code",
   "execution_count": 9,
   "id": "8a1024df",
   "metadata": {},
   "outputs": [
    {
     "name": "stdout",
     "output_type": "stream",
     "text": [
      "5.0\n"
     ]
    }
   ],
   "source": [
    "foodivision(10,2)"
   ]
  },
  {
   "cell_type": "markdown",
   "id": "62e4a99c",
   "metadata": {},
   "source": [
    "# keyword arrgument"
   ]
  },
  {
   "cell_type": "markdown",
   "id": "b59a0080",
   "metadata": {},
   "source": [
    "* At time of calling the func, if we pass the arguements by using the parameter name,these kind of arguements are called as keywords arguements.\n",
    "\n",
    "* func_ name(para1=arg1,para2=arge2)"
   ]
  },
  {
   "cell_type": "code",
   "execution_count": 11,
   "id": "7a373c5a",
   "metadata": {},
   "outputs": [],
   "source": [
    "def my_function(fname, lname):\n",
    "    print(fname + \" \" + lname)"
   ]
  },
  {
   "cell_type": "code",
   "execution_count": 12,
   "id": "4ad1b5dd",
   "metadata": {},
   "outputs": [
    {
     "name": "stdout",
     "output_type": "stream",
     "text": [
      "ganesh satish\n"
     ]
    }
   ],
   "source": [
    "my_function(\"ganesh\",\"satish\")"
   ]
  },
  {
   "cell_type": "code",
   "execution_count": 13,
   "id": "5355e9ac",
   "metadata": {},
   "outputs": [],
   "source": [
    "def my_function(a,b):\n",
    "    print(a+b)"
   ]
  },
  {
   "cell_type": "code",
   "execution_count": 14,
   "id": "32d7bf7d",
   "metadata": {},
   "outputs": [
    {
     "name": "stdout",
     "output_type": "stream",
     "text": [
      "19\n"
     ]
    }
   ],
   "source": [
    " my_function(9,10)"
   ]
  },
  {
   "cell_type": "markdown",
   "id": "e04346da",
   "metadata": {},
   "source": [
    "# Position arrgument"
   ]
  },
  {
   "cell_type": "markdown",
   "id": "a15ef56d",
   "metadata": {},
   "source": [
    "* In Python, there are different types of arguments you can use when calling a function. Positional arguments are the most straightforward and common type .\n",
    "* When you use positional arguments, the values are assigned to the parameters based on their position in the function definition. The order in which you pass the arguments matters* ."
   ]
  },
  {
   "cell_type": "code",
   "execution_count": 1,
   "id": "34be52ee",
   "metadata": {},
   "outputs": [],
   "source": [
    "def foosum(a,b):          # a and b parameters\n",
    "    print(a + b)"
   ]
  },
  {
   "cell_type": "code",
   "execution_count": 2,
   "id": "2adc0ff3",
   "metadata": {},
   "outputs": [
    {
     "name": "stdout",
     "output_type": "stream",
     "text": [
      "4\n"
     ]
    }
   ],
   "source": [
    "foosum(1,3)               # 1 and 3 are arrgument"
   ]
  },
  {
   "cell_type": "code",
   "execution_count": 3,
   "id": "1dcb408a",
   "metadata": {},
   "outputs": [],
   "source": [
    "def foodivision(d,n):\n",
    "    print(n/d)"
   ]
  },
  {
   "cell_type": "code",
   "execution_count": 4,
   "id": "0855ed9a",
   "metadata": {},
   "outputs": [
    {
     "name": "stdout",
     "output_type": "stream",
     "text": [
      "0.2\n"
     ]
    }
   ],
   "source": [
    "foodivision(10,2)"
   ]
  },
  {
   "cell_type": "markdown",
   "id": "402247d6",
   "metadata": {},
   "source": [
    "\n",
    "# Arbitrary Arguments, *args or Variable-Length arguments:"
   ]
  },
  {
   "cell_type": "markdown",
   "id": "acf30a50",
   "metadata": {},
   "source": [
    "Arbitrary Arguments, *args or Variable-Length arguments:\n",
    "\n",
    "* If you do not know how many arguments that will be passed into your function, add a * before the parameter name in the function definition.\n",
    "\n",
    "\n",
    "* This way the function will receive a tuple of arguments, and can access the items accordingly:\n",
    "\n"
   ]
  },
  {
   "cell_type": "code",
   "execution_count": 8,
   "id": "05e96dc4",
   "metadata": {},
   "outputs": [],
   "source": [
    "def my_function(**kid):\n",
    "    print(\"his last name is \" + kid[\"lname\"])\n",
    "    "
   ]
  },
  {
   "cell_type": "code",
   "execution_count": 9,
   "id": "d5a862f5",
   "metadata": {},
   "outputs": [
    {
     "name": "stdout",
     "output_type": "stream",
     "text": [
      "his last name is ganesh\n"
     ]
    }
   ],
   "source": [
    "my_function(fname = \"ramesh\", lname = \"ganesh\")"
   ]
  },
  {
   "cell_type": "code",
   "execution_count": null,
   "id": "9c1ce25c",
   "metadata": {},
   "outputs": [],
   "source": []
  }
 ],
 "metadata": {
  "kernelspec": {
   "display_name": "Python 3 (ipykernel)",
   "language": "python",
   "name": "python3"
  },
  "language_info": {
   "codemirror_mode": {
    "name": "ipython",
    "version": 3
   },
   "file_extension": ".py",
   "mimetype": "text/x-python",
   "name": "python",
   "nbconvert_exporter": "python",
   "pygments_lexer": "ipython3",
   "version": "3.11.5"
  }
 },
 "nbformat": 4,
 "nbformat_minor": 5
}
